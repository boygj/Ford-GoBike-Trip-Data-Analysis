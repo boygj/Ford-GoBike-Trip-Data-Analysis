{
 "cells": [
  {
   "cell_type": "markdown",
   "metadata": {},
   "source": [
    "# Part I - (Ford GoBike Trip Data Analysis)\n",
    "## by (Eugene Masinde)\n",
    "This is a section 2 final project by Eugene Masinde, a prospective Data Analyst working for Kaimosi Friends University in Vihiga county. It is done as part of the ALX/UDACITY Nano Degree in Data Analytics. You can reach me through any of the following:\n",
    "\n",
    "<ul>\n",
    "<li>Linkedin: https://www.linkedin.com/in/eugene-masinde-095bb343/</li>\n",
    "<li>Email: odanga.masinde@gmail.com</li>\n",
    "<li>Phone: +254727172822</li>\n",
    "<li>Github: https://github.com/boygj</li>\n",
    "</ul>\n",
    "\n",
    "## Introduction\n",
    "This data set is taken from https://www.fordgobike.com/system-data and represents trips taken by members of the service for month of February of 2019. Data consists of info about trips taken by service's members, their types, their age, their gender, stations of starting and ending trips, duration of trips etc.\n",
    "\n",
    "\n",
    "\n",
    "## Preliminary Wrangling\n"
   ]
  },
  {
   "cell_type": "code",
   "execution_count": 63,
   "metadata": {},
   "outputs": [],
   "source": [
    "# import all packages and set plots to be embedded inline\n",
    "import numpy as np\n",
    "import pandas as pd\n",
    "import matplotlib.pyplot as plt\n",
    "import seaborn as sns\n",
    "\n",
    "%matplotlib inline"
   ]
  },
  {
   "cell_type": "code",
   "execution_count": 4,
   "metadata": {},
   "outputs": [
    {
     "data": {
      "text/html": [
       "<div>\n",
       "<style scoped>\n",
       "    .dataframe tbody tr th:only-of-type {\n",
       "        vertical-align: middle;\n",
       "    }\n",
       "\n",
       "    .dataframe tbody tr th {\n",
       "        vertical-align: top;\n",
       "    }\n",
       "\n",
       "    .dataframe thead th {\n",
       "        text-align: right;\n",
       "    }\n",
       "</style>\n",
       "<table border=\"1\" class=\"dataframe\">\n",
       "  <thead>\n",
       "    <tr style=\"text-align: right;\">\n",
       "      <th></th>\n",
       "      <th>duration_sec</th>\n",
       "      <th>start_time</th>\n",
       "      <th>end_time</th>\n",
       "      <th>start_station_id</th>\n",
       "      <th>start_station_name</th>\n",
       "      <th>start_station_latitude</th>\n",
       "      <th>start_station_longitude</th>\n",
       "      <th>end_station_id</th>\n",
       "      <th>end_station_name</th>\n",
       "      <th>end_station_latitude</th>\n",
       "      <th>end_station_longitude</th>\n",
       "      <th>bike_id</th>\n",
       "      <th>user_type</th>\n",
       "      <th>member_birth_year</th>\n",
       "      <th>member_gender</th>\n",
       "      <th>bike_share_for_all_trip</th>\n",
       "    </tr>\n",
       "  </thead>\n",
       "  <tbody>\n",
       "    <tr>\n",
       "      <th>0</th>\n",
       "      <td>52185</td>\n",
       "      <td>2019-02-28 17:32:10.1450</td>\n",
       "      <td>2019-03-01 08:01:55.9750</td>\n",
       "      <td>21.0</td>\n",
       "      <td>Montgomery St BART Station (Market St at 2nd St)</td>\n",
       "      <td>37.789625</td>\n",
       "      <td>-122.400811</td>\n",
       "      <td>13.0</td>\n",
       "      <td>Commercial St at Montgomery St</td>\n",
       "      <td>37.794231</td>\n",
       "      <td>-122.402923</td>\n",
       "      <td>4902</td>\n",
       "      <td>Customer</td>\n",
       "      <td>1984.0</td>\n",
       "      <td>Male</td>\n",
       "      <td>No</td>\n",
       "    </tr>\n",
       "    <tr>\n",
       "      <th>1</th>\n",
       "      <td>42521</td>\n",
       "      <td>2019-02-28 18:53:21.7890</td>\n",
       "      <td>2019-03-01 06:42:03.0560</td>\n",
       "      <td>23.0</td>\n",
       "      <td>The Embarcadero at Steuart St</td>\n",
       "      <td>37.791464</td>\n",
       "      <td>-122.391034</td>\n",
       "      <td>81.0</td>\n",
       "      <td>Berry St at 4th St</td>\n",
       "      <td>37.775880</td>\n",
       "      <td>-122.393170</td>\n",
       "      <td>2535</td>\n",
       "      <td>Customer</td>\n",
       "      <td>NaN</td>\n",
       "      <td>NaN</td>\n",
       "      <td>No</td>\n",
       "    </tr>\n",
       "    <tr>\n",
       "      <th>2</th>\n",
       "      <td>61854</td>\n",
       "      <td>2019-02-28 12:13:13.2180</td>\n",
       "      <td>2019-03-01 05:24:08.1460</td>\n",
       "      <td>86.0</td>\n",
       "      <td>Market St at Dolores St</td>\n",
       "      <td>37.769305</td>\n",
       "      <td>-122.426826</td>\n",
       "      <td>3.0</td>\n",
       "      <td>Powell St BART Station (Market St at 4th St)</td>\n",
       "      <td>37.786375</td>\n",
       "      <td>-122.404904</td>\n",
       "      <td>5905</td>\n",
       "      <td>Customer</td>\n",
       "      <td>1972.0</td>\n",
       "      <td>Male</td>\n",
       "      <td>No</td>\n",
       "    </tr>\n",
       "    <tr>\n",
       "      <th>3</th>\n",
       "      <td>36490</td>\n",
       "      <td>2019-02-28 17:54:26.0100</td>\n",
       "      <td>2019-03-01 04:02:36.8420</td>\n",
       "      <td>375.0</td>\n",
       "      <td>Grove St at Masonic Ave</td>\n",
       "      <td>37.774836</td>\n",
       "      <td>-122.446546</td>\n",
       "      <td>70.0</td>\n",
       "      <td>Central Ave at Fell St</td>\n",
       "      <td>37.773311</td>\n",
       "      <td>-122.444293</td>\n",
       "      <td>6638</td>\n",
       "      <td>Subscriber</td>\n",
       "      <td>1989.0</td>\n",
       "      <td>Other</td>\n",
       "      <td>No</td>\n",
       "    </tr>\n",
       "    <tr>\n",
       "      <th>4</th>\n",
       "      <td>1585</td>\n",
       "      <td>2019-02-28 23:54:18.5490</td>\n",
       "      <td>2019-03-01 00:20:44.0740</td>\n",
       "      <td>7.0</td>\n",
       "      <td>Frank H Ogawa Plaza</td>\n",
       "      <td>37.804562</td>\n",
       "      <td>-122.271738</td>\n",
       "      <td>222.0</td>\n",
       "      <td>10th Ave at E 15th St</td>\n",
       "      <td>37.792714</td>\n",
       "      <td>-122.248780</td>\n",
       "      <td>4898</td>\n",
       "      <td>Subscriber</td>\n",
       "      <td>1974.0</td>\n",
       "      <td>Male</td>\n",
       "      <td>Yes</td>\n",
       "    </tr>\n",
       "  </tbody>\n",
       "</table>\n",
       "</div>"
      ],
      "text/plain": [
       "   duration_sec                start_time                  end_time  \\\n",
       "0         52185  2019-02-28 17:32:10.1450  2019-03-01 08:01:55.9750   \n",
       "1         42521  2019-02-28 18:53:21.7890  2019-03-01 06:42:03.0560   \n",
       "2         61854  2019-02-28 12:13:13.2180  2019-03-01 05:24:08.1460   \n",
       "3         36490  2019-02-28 17:54:26.0100  2019-03-01 04:02:36.8420   \n",
       "4          1585  2019-02-28 23:54:18.5490  2019-03-01 00:20:44.0740   \n",
       "\n",
       "   start_station_id                                start_station_name  \\\n",
       "0              21.0  Montgomery St BART Station (Market St at 2nd St)   \n",
       "1              23.0                     The Embarcadero at Steuart St   \n",
       "2              86.0                           Market St at Dolores St   \n",
       "3             375.0                           Grove St at Masonic Ave   \n",
       "4               7.0                               Frank H Ogawa Plaza   \n",
       "\n",
       "   start_station_latitude  start_station_longitude  end_station_id  \\\n",
       "0               37.789625              -122.400811            13.0   \n",
       "1               37.791464              -122.391034            81.0   \n",
       "2               37.769305              -122.426826             3.0   \n",
       "3               37.774836              -122.446546            70.0   \n",
       "4               37.804562              -122.271738           222.0   \n",
       "\n",
       "                               end_station_name  end_station_latitude  \\\n",
       "0                Commercial St at Montgomery St             37.794231   \n",
       "1                            Berry St at 4th St             37.775880   \n",
       "2  Powell St BART Station (Market St at 4th St)             37.786375   \n",
       "3                        Central Ave at Fell St             37.773311   \n",
       "4                         10th Ave at E 15th St             37.792714   \n",
       "\n",
       "   end_station_longitude  bike_id   user_type  member_birth_year  \\\n",
       "0            -122.402923     4902    Customer             1984.0   \n",
       "1            -122.393170     2535    Customer                NaN   \n",
       "2            -122.404904     5905    Customer             1972.0   \n",
       "3            -122.444293     6638  Subscriber             1989.0   \n",
       "4            -122.248780     4898  Subscriber             1974.0   \n",
       "\n",
       "  member_gender bike_share_for_all_trip  \n",
       "0          Male                      No  \n",
       "1           NaN                      No  \n",
       "2          Male                      No  \n",
       "3         Other                      No  \n",
       "4          Male                     Yes  "
      ]
     },
     "execution_count": 4,
     "metadata": {},
     "output_type": "execute_result"
    }
   ],
   "source": [
    "go_df= pd.read_csv('201902-fordgobike-tripdata.csv')\n",
    "go_df.head()"
   ]
  },
  {
   "cell_type": "markdown",
   "metadata": {},
   "source": [
    "## Assessing Data\n",
    "\n",
    "After selecting and importing the data, assess them visually and programmatically for quality and tidiness issues. Detect and document at least eight (8) quality issues and two (2) tidiness issues in the \"Accessing Data\" section in the wrangle_act.ipynb Jupyter Notebook."
   ]
  },
  {
   "cell_type": "code",
   "execution_count": 11,
   "metadata": {},
   "outputs": [
    {
     "data": {
      "text/html": [
       "<div>\n",
       "<style scoped>\n",
       "    .dataframe tbody tr th:only-of-type {\n",
       "        vertical-align: middle;\n",
       "    }\n",
       "\n",
       "    .dataframe tbody tr th {\n",
       "        vertical-align: top;\n",
       "    }\n",
       "\n",
       "    .dataframe thead th {\n",
       "        text-align: right;\n",
       "    }\n",
       "</style>\n",
       "<table border=\"1\" class=\"dataframe\">\n",
       "  <thead>\n",
       "    <tr style=\"text-align: right;\">\n",
       "      <th></th>\n",
       "      <th>duration_sec</th>\n",
       "      <th>start_time</th>\n",
       "      <th>end_time</th>\n",
       "      <th>start_station_id</th>\n",
       "      <th>start_station_name</th>\n",
       "      <th>start_station_latitude</th>\n",
       "      <th>start_station_longitude</th>\n",
       "      <th>end_station_id</th>\n",
       "      <th>end_station_name</th>\n",
       "      <th>end_station_latitude</th>\n",
       "      <th>end_station_longitude</th>\n",
       "      <th>bike_id</th>\n",
       "      <th>user_type</th>\n",
       "      <th>member_birth_year</th>\n",
       "      <th>member_gender</th>\n",
       "      <th>bike_share_for_all_trip</th>\n",
       "    </tr>\n",
       "  </thead>\n",
       "  <tbody>\n",
       "    <tr>\n",
       "      <th>181291</th>\n",
       "      <td>382</td>\n",
       "      <td>2019-02-01 09:19:37.5720</td>\n",
       "      <td>2019-02-01 09:25:59.5780</td>\n",
       "      <td>58.0</td>\n",
       "      <td>Market St at 10th St</td>\n",
       "      <td>37.776619</td>\n",
       "      <td>-122.417385</td>\n",
       "      <td>19.0</td>\n",
       "      <td>Post St at Kearny St</td>\n",
       "      <td>37.788975</td>\n",
       "      <td>-122.403452</td>\n",
       "      <td>4814</td>\n",
       "      <td>Subscriber</td>\n",
       "      <td>1993.0</td>\n",
       "      <td>Male</td>\n",
       "      <td>No</td>\n",
       "    </tr>\n",
       "    <tr>\n",
       "      <th>121245</th>\n",
       "      <td>993</td>\n",
       "      <td>2019-02-11 15:39:30.1300</td>\n",
       "      <td>2019-02-11 15:56:03.8190</td>\n",
       "      <td>361.0</td>\n",
       "      <td>Mendell St at Fairfax Ave</td>\n",
       "      <td>37.739853</td>\n",
       "      <td>-122.385655</td>\n",
       "      <td>127.0</td>\n",
       "      <td>Valencia St at 21st St</td>\n",
       "      <td>37.756708</td>\n",
       "      <td>-122.421025</td>\n",
       "      <td>5288</td>\n",
       "      <td>Subscriber</td>\n",
       "      <td>1971.0</td>\n",
       "      <td>Male</td>\n",
       "      <td>No</td>\n",
       "    </tr>\n",
       "    <tr>\n",
       "      <th>87131</th>\n",
       "      <td>263</td>\n",
       "      <td>2019-02-17 10:43:22.8670</td>\n",
       "      <td>2019-02-17 10:47:46.5910</td>\n",
       "      <td>76.0</td>\n",
       "      <td>McCoppin St at Valencia St</td>\n",
       "      <td>37.771662</td>\n",
       "      <td>-122.422423</td>\n",
       "      <td>58.0</td>\n",
       "      <td>Market St at 10th St</td>\n",
       "      <td>37.776619</td>\n",
       "      <td>-122.417385</td>\n",
       "      <td>5381</td>\n",
       "      <td>Subscriber</td>\n",
       "      <td>1994.0</td>\n",
       "      <td>Male</td>\n",
       "      <td>No</td>\n",
       "    </tr>\n",
       "    <tr>\n",
       "      <th>160486</th>\n",
       "      <td>156</td>\n",
       "      <td>2019-02-05 17:05:16.3320</td>\n",
       "      <td>2019-02-05 17:07:52.4290</td>\n",
       "      <td>7.0</td>\n",
       "      <td>Frank H Ogawa Plaza</td>\n",
       "      <td>37.804562</td>\n",
       "      <td>-122.271738</td>\n",
       "      <td>202.0</td>\n",
       "      <td>Washington St at 8th St</td>\n",
       "      <td>37.800754</td>\n",
       "      <td>-122.274894</td>\n",
       "      <td>5172</td>\n",
       "      <td>Subscriber</td>\n",
       "      <td>1996.0</td>\n",
       "      <td>Female</td>\n",
       "      <td>No</td>\n",
       "    </tr>\n",
       "    <tr>\n",
       "      <th>111039</th>\n",
       "      <td>799</td>\n",
       "      <td>2019-02-12 17:22:53.3740</td>\n",
       "      <td>2019-02-12 17:36:13.2900</td>\n",
       "      <td>3.0</td>\n",
       "      <td>Powell St BART Station (Market St at 4th St)</td>\n",
       "      <td>37.786375</td>\n",
       "      <td>-122.404904</td>\n",
       "      <td>130.0</td>\n",
       "      <td>22nd St Caltrain Station</td>\n",
       "      <td>37.757288</td>\n",
       "      <td>-122.392051</td>\n",
       "      <td>4848</td>\n",
       "      <td>Subscriber</td>\n",
       "      <td>1985.0</td>\n",
       "      <td>Male</td>\n",
       "      <td>No</td>\n",
       "    </tr>\n",
       "    <tr>\n",
       "      <th>12196</th>\n",
       "      <td>810</td>\n",
       "      <td>2019-02-27 17:43:39.9450</td>\n",
       "      <td>2019-02-27 17:57:10.6460</td>\n",
       "      <td>338.0</td>\n",
       "      <td>13th St at Franklin St</td>\n",
       "      <td>37.803189</td>\n",
       "      <td>-122.270579</td>\n",
       "      <td>202.0</td>\n",
       "      <td>Washington St at 8th St</td>\n",
       "      <td>37.800754</td>\n",
       "      <td>-122.274894</td>\n",
       "      <td>2281</td>\n",
       "      <td>Subscriber</td>\n",
       "      <td>1990.0</td>\n",
       "      <td>Male</td>\n",
       "      <td>No</td>\n",
       "    </tr>\n",
       "    <tr>\n",
       "      <th>150798</th>\n",
       "      <td>249</td>\n",
       "      <td>2019-02-06 17:53:15.6140</td>\n",
       "      <td>2019-02-06 17:57:25.4500</td>\n",
       "      <td>275.0</td>\n",
       "      <td>Julian St at 6th St</td>\n",
       "      <td>37.342997</td>\n",
       "      <td>-121.888889</td>\n",
       "      <td>280.0</td>\n",
       "      <td>San Fernando St at 7th St</td>\n",
       "      <td>37.337122</td>\n",
       "      <td>-121.883215</td>\n",
       "      <td>3916</td>\n",
       "      <td>Subscriber</td>\n",
       "      <td>1984.0</td>\n",
       "      <td>Male</td>\n",
       "      <td>Yes</td>\n",
       "    </tr>\n",
       "    <tr>\n",
       "      <th>58949</th>\n",
       "      <td>174</td>\n",
       "      <td>2019-02-20 21:50:58.0560</td>\n",
       "      <td>2019-02-20 21:53:52.6560</td>\n",
       "      <td>239.0</td>\n",
       "      <td>Bancroft Way at Telegraph Ave</td>\n",
       "      <td>37.868813</td>\n",
       "      <td>-122.258764</td>\n",
       "      <td>256.0</td>\n",
       "      <td>Hearst Ave at Euclid Ave</td>\n",
       "      <td>37.875112</td>\n",
       "      <td>-122.260553</td>\n",
       "      <td>4781</td>\n",
       "      <td>Subscriber</td>\n",
       "      <td>1996.0</td>\n",
       "      <td>Male</td>\n",
       "      <td>No</td>\n",
       "    </tr>\n",
       "  </tbody>\n",
       "</table>\n",
       "</div>"
      ],
      "text/plain": [
       "        duration_sec                start_time                  end_time  \\\n",
       "181291           382  2019-02-01 09:19:37.5720  2019-02-01 09:25:59.5780   \n",
       "121245           993  2019-02-11 15:39:30.1300  2019-02-11 15:56:03.8190   \n",
       "87131            263  2019-02-17 10:43:22.8670  2019-02-17 10:47:46.5910   \n",
       "160486           156  2019-02-05 17:05:16.3320  2019-02-05 17:07:52.4290   \n",
       "111039           799  2019-02-12 17:22:53.3740  2019-02-12 17:36:13.2900   \n",
       "12196            810  2019-02-27 17:43:39.9450  2019-02-27 17:57:10.6460   \n",
       "150798           249  2019-02-06 17:53:15.6140  2019-02-06 17:57:25.4500   \n",
       "58949            174  2019-02-20 21:50:58.0560  2019-02-20 21:53:52.6560   \n",
       "\n",
       "        start_station_id                            start_station_name  \\\n",
       "181291              58.0                          Market St at 10th St   \n",
       "121245             361.0                     Mendell St at Fairfax Ave   \n",
       "87131               76.0                    McCoppin St at Valencia St   \n",
       "160486               7.0                           Frank H Ogawa Plaza   \n",
       "111039               3.0  Powell St BART Station (Market St at 4th St)   \n",
       "12196              338.0                        13th St at Franklin St   \n",
       "150798             275.0                           Julian St at 6th St   \n",
       "58949              239.0                 Bancroft Way at Telegraph Ave   \n",
       "\n",
       "        start_station_latitude  start_station_longitude  end_station_id  \\\n",
       "181291               37.776619              -122.417385            19.0   \n",
       "121245               37.739853              -122.385655           127.0   \n",
       "87131                37.771662              -122.422423            58.0   \n",
       "160486               37.804562              -122.271738           202.0   \n",
       "111039               37.786375              -122.404904           130.0   \n",
       "12196                37.803189              -122.270579           202.0   \n",
       "150798               37.342997              -121.888889           280.0   \n",
       "58949                37.868813              -122.258764           256.0   \n",
       "\n",
       "                 end_station_name  end_station_latitude  \\\n",
       "181291       Post St at Kearny St             37.788975   \n",
       "121245     Valencia St at 21st St             37.756708   \n",
       "87131        Market St at 10th St             37.776619   \n",
       "160486    Washington St at 8th St             37.800754   \n",
       "111039   22nd St Caltrain Station             37.757288   \n",
       "12196     Washington St at 8th St             37.800754   \n",
       "150798  San Fernando St at 7th St             37.337122   \n",
       "58949    Hearst Ave at Euclid Ave             37.875112   \n",
       "\n",
       "        end_station_longitude  bike_id   user_type  member_birth_year  \\\n",
       "181291            -122.403452     4814  Subscriber             1993.0   \n",
       "121245            -122.421025     5288  Subscriber             1971.0   \n",
       "87131             -122.417385     5381  Subscriber             1994.0   \n",
       "160486            -122.274894     5172  Subscriber             1996.0   \n",
       "111039            -122.392051     4848  Subscriber             1985.0   \n",
       "12196             -122.274894     2281  Subscriber             1990.0   \n",
       "150798            -121.883215     3916  Subscriber             1984.0   \n",
       "58949             -122.260553     4781  Subscriber             1996.0   \n",
       "\n",
       "       member_gender bike_share_for_all_trip  \n",
       "181291          Male                      No  \n",
       "121245          Male                      No  \n",
       "87131           Male                      No  \n",
       "160486        Female                      No  \n",
       "111039          Male                      No  \n",
       "12196           Male                      No  \n",
       "150798          Male                     Yes  \n",
       "58949           Male                      No  "
      ]
     },
     "execution_count": 11,
     "metadata": {},
     "output_type": "execute_result"
    }
   ],
   "source": [
    "#Lets get a random sample of this data\n",
    "go_df.sample(8)\n",
    "\n"
   ]
  },
  {
   "cell_type": "code",
   "execution_count": 12,
   "metadata": {},
   "outputs": [
    {
     "name": "stdout",
     "output_type": "stream",
     "text": [
      "<class 'pandas.core.frame.DataFrame'>\n",
      "RangeIndex: 183412 entries, 0 to 183411\n",
      "Data columns (total 16 columns):\n",
      " #   Column                   Non-Null Count   Dtype  \n",
      "---  ------                   --------------   -----  \n",
      " 0   duration_sec             183412 non-null  int64  \n",
      " 1   start_time               183412 non-null  object \n",
      " 2   end_time                 183412 non-null  object \n",
      " 3   start_station_id         183215 non-null  float64\n",
      " 4   start_station_name       183215 non-null  object \n",
      " 5   start_station_latitude   183412 non-null  float64\n",
      " 6   start_station_longitude  183412 non-null  float64\n",
      " 7   end_station_id           183215 non-null  float64\n",
      " 8   end_station_name         183215 non-null  object \n",
      " 9   end_station_latitude     183412 non-null  float64\n",
      " 10  end_station_longitude    183412 non-null  float64\n",
      " 11  bike_id                  183412 non-null  int64  \n",
      " 12  user_type                183412 non-null  object \n",
      " 13  member_birth_year        175147 non-null  float64\n",
      " 14  member_gender            175147 non-null  object \n",
      " 15  bike_share_for_all_trip  183412 non-null  object \n",
      "dtypes: float64(7), int64(2), object(7)\n",
      "memory usage: 22.4+ MB\n"
     ]
    }
   ],
   "source": [
    "#Finding more information about our dataset\n",
    "go_df.info()"
   ]
  },
  {
   "cell_type": "code",
   "execution_count": 7,
   "metadata": {},
   "outputs": [
    {
     "data": {
      "text/plain": [
       "(183412, 16)"
      ]
     },
     "execution_count": 7,
     "metadata": {},
     "output_type": "execute_result"
    }
   ],
   "source": [
    "#Get data on the overall shape of the dataset\n",
    "go_df.shape"
   ]
  },
  {
   "cell_type": "code",
   "execution_count": 8,
   "metadata": {},
   "outputs": [
    {
     "data": {
      "text/html": [
       "<div>\n",
       "<style scoped>\n",
       "    .dataframe tbody tr th:only-of-type {\n",
       "        vertical-align: middle;\n",
       "    }\n",
       "\n",
       "    .dataframe tbody tr th {\n",
       "        vertical-align: top;\n",
       "    }\n",
       "\n",
       "    .dataframe thead th {\n",
       "        text-align: right;\n",
       "    }\n",
       "</style>\n",
       "<table border=\"1\" class=\"dataframe\">\n",
       "  <thead>\n",
       "    <tr style=\"text-align: right;\">\n",
       "      <th></th>\n",
       "      <th>duration_sec</th>\n",
       "      <th>start_station_id</th>\n",
       "      <th>start_station_latitude</th>\n",
       "      <th>start_station_longitude</th>\n",
       "      <th>end_station_id</th>\n",
       "      <th>end_station_latitude</th>\n",
       "      <th>end_station_longitude</th>\n",
       "      <th>bike_id</th>\n",
       "      <th>member_birth_year</th>\n",
       "    </tr>\n",
       "  </thead>\n",
       "  <tbody>\n",
       "    <tr>\n",
       "      <th>count</th>\n",
       "      <td>183412.000000</td>\n",
       "      <td>183215.000000</td>\n",
       "      <td>183412.000000</td>\n",
       "      <td>183412.000000</td>\n",
       "      <td>183215.000000</td>\n",
       "      <td>183412.000000</td>\n",
       "      <td>183412.000000</td>\n",
       "      <td>183412.000000</td>\n",
       "      <td>175147.000000</td>\n",
       "    </tr>\n",
       "    <tr>\n",
       "      <th>mean</th>\n",
       "      <td>726.078435</td>\n",
       "      <td>138.590427</td>\n",
       "      <td>37.771223</td>\n",
       "      <td>-122.352664</td>\n",
       "      <td>136.249123</td>\n",
       "      <td>37.771427</td>\n",
       "      <td>-122.352250</td>\n",
       "      <td>4472.906375</td>\n",
       "      <td>1984.806437</td>\n",
       "    </tr>\n",
       "    <tr>\n",
       "      <th>std</th>\n",
       "      <td>1794.389780</td>\n",
       "      <td>111.778864</td>\n",
       "      <td>0.099581</td>\n",
       "      <td>0.117097</td>\n",
       "      <td>111.515131</td>\n",
       "      <td>0.099490</td>\n",
       "      <td>0.116673</td>\n",
       "      <td>1664.383394</td>\n",
       "      <td>10.116689</td>\n",
       "    </tr>\n",
       "    <tr>\n",
       "      <th>min</th>\n",
       "      <td>61.000000</td>\n",
       "      <td>3.000000</td>\n",
       "      <td>37.317298</td>\n",
       "      <td>-122.453704</td>\n",
       "      <td>3.000000</td>\n",
       "      <td>37.317298</td>\n",
       "      <td>-122.453704</td>\n",
       "      <td>11.000000</td>\n",
       "      <td>1878.000000</td>\n",
       "    </tr>\n",
       "    <tr>\n",
       "      <th>25%</th>\n",
       "      <td>325.000000</td>\n",
       "      <td>47.000000</td>\n",
       "      <td>37.770083</td>\n",
       "      <td>-122.412408</td>\n",
       "      <td>44.000000</td>\n",
       "      <td>37.770407</td>\n",
       "      <td>-122.411726</td>\n",
       "      <td>3777.000000</td>\n",
       "      <td>1980.000000</td>\n",
       "    </tr>\n",
       "    <tr>\n",
       "      <th>50%</th>\n",
       "      <td>514.000000</td>\n",
       "      <td>104.000000</td>\n",
       "      <td>37.780760</td>\n",
       "      <td>-122.398285</td>\n",
       "      <td>100.000000</td>\n",
       "      <td>37.781010</td>\n",
       "      <td>-122.398279</td>\n",
       "      <td>4958.000000</td>\n",
       "      <td>1987.000000</td>\n",
       "    </tr>\n",
       "    <tr>\n",
       "      <th>75%</th>\n",
       "      <td>796.000000</td>\n",
       "      <td>239.000000</td>\n",
       "      <td>37.797280</td>\n",
       "      <td>-122.286533</td>\n",
       "      <td>235.000000</td>\n",
       "      <td>37.797320</td>\n",
       "      <td>-122.288045</td>\n",
       "      <td>5502.000000</td>\n",
       "      <td>1992.000000</td>\n",
       "    </tr>\n",
       "    <tr>\n",
       "      <th>max</th>\n",
       "      <td>85444.000000</td>\n",
       "      <td>398.000000</td>\n",
       "      <td>37.880222</td>\n",
       "      <td>-121.874119</td>\n",
       "      <td>398.000000</td>\n",
       "      <td>37.880222</td>\n",
       "      <td>-121.874119</td>\n",
       "      <td>6645.000000</td>\n",
       "      <td>2001.000000</td>\n",
       "    </tr>\n",
       "  </tbody>\n",
       "</table>\n",
       "</div>"
      ],
      "text/plain": [
       "        duration_sec  start_station_id  start_station_latitude  \\\n",
       "count  183412.000000     183215.000000           183412.000000   \n",
       "mean      726.078435        138.590427               37.771223   \n",
       "std      1794.389780        111.778864                0.099581   \n",
       "min        61.000000          3.000000               37.317298   \n",
       "25%       325.000000         47.000000               37.770083   \n",
       "50%       514.000000        104.000000               37.780760   \n",
       "75%       796.000000        239.000000               37.797280   \n",
       "max     85444.000000        398.000000               37.880222   \n",
       "\n",
       "       start_station_longitude  end_station_id  end_station_latitude  \\\n",
       "count            183412.000000   183215.000000         183412.000000   \n",
       "mean               -122.352664      136.249123             37.771427   \n",
       "std                   0.117097      111.515131              0.099490   \n",
       "min                -122.453704        3.000000             37.317298   \n",
       "25%                -122.412408       44.000000             37.770407   \n",
       "50%                -122.398285      100.000000             37.781010   \n",
       "75%                -122.286533      235.000000             37.797320   \n",
       "max                -121.874119      398.000000             37.880222   \n",
       "\n",
       "       end_station_longitude        bike_id  member_birth_year  \n",
       "count          183412.000000  183412.000000      175147.000000  \n",
       "mean             -122.352250    4472.906375        1984.806437  \n",
       "std                 0.116673    1664.383394          10.116689  \n",
       "min              -122.453704      11.000000        1878.000000  \n",
       "25%              -122.411726    3777.000000        1980.000000  \n",
       "50%              -122.398279    4958.000000        1987.000000  \n",
       "75%              -122.288045    5502.000000        1992.000000  \n",
       "max              -121.874119    6645.000000        2001.000000  "
      ]
     },
     "execution_count": 8,
     "metadata": {},
     "output_type": "execute_result"
    }
   ],
   "source": [
    "#get summary statistics using describe()\n",
    "go_df.describe()"
   ]
  },
  {
   "cell_type": "code",
   "execution_count": 17,
   "metadata": {},
   "outputs": [
    {
     "data": {
      "text/plain": [
       "duration_sec               18\n",
       "start_time                 18\n",
       "end_time                   18\n",
       "start_station_id           18\n",
       "start_station_name         18\n",
       "start_station_latitude     18\n",
       "start_station_longitude    18\n",
       "end_station_id             18\n",
       "end_station_name           18\n",
       "end_station_latitude       18\n",
       "end_station_longitude      18\n",
       "bike_id                    18\n",
       "user_type                  18\n",
       "member_birth_year          18\n",
       "member_gender              18\n",
       "bike_share_for_all_trip    18\n",
       "dtype: int64"
      ]
     },
     "execution_count": 17,
     "metadata": {},
     "output_type": "execute_result"
    }
   ],
   "source": [
    "#Check the number of values with the minimum duration which is 61 seconds\n",
    "\n",
    "go_df[go_df.duration_sec ==61].count()"
   ]
  },
  {
   "cell_type": "code",
   "execution_count": 18,
   "metadata": {},
   "outputs": [
    {
     "data": {
      "text/html": [
       "<div>\n",
       "<style scoped>\n",
       "    .dataframe tbody tr th:only-of-type {\n",
       "        vertical-align: middle;\n",
       "    }\n",
       "\n",
       "    .dataframe tbody tr th {\n",
       "        vertical-align: top;\n",
       "    }\n",
       "\n",
       "    .dataframe thead th {\n",
       "        text-align: right;\n",
       "    }\n",
       "</style>\n",
       "<table border=\"1\" class=\"dataframe\">\n",
       "  <thead>\n",
       "    <tr style=\"text-align: right;\">\n",
       "      <th></th>\n",
       "      <th>duration_sec</th>\n",
       "      <th>start_time</th>\n",
       "      <th>end_time</th>\n",
       "      <th>start_station_id</th>\n",
       "      <th>start_station_name</th>\n",
       "      <th>start_station_latitude</th>\n",
       "      <th>start_station_longitude</th>\n",
       "      <th>end_station_id</th>\n",
       "      <th>end_station_name</th>\n",
       "      <th>end_station_latitude</th>\n",
       "      <th>end_station_longitude</th>\n",
       "      <th>bike_id</th>\n",
       "      <th>user_type</th>\n",
       "      <th>member_birth_year</th>\n",
       "      <th>member_gender</th>\n",
       "      <th>bike_share_for_all_trip</th>\n",
       "    </tr>\n",
       "  </thead>\n",
       "  <tbody>\n",
       "    <tr>\n",
       "      <th>101361</th>\n",
       "      <td>85444</td>\n",
       "      <td>2019-02-13 17:59:55.1240</td>\n",
       "      <td>2019-02-14 17:43:59.9540</td>\n",
       "      <td>5.0</td>\n",
       "      <td>Powell St BART Station (Market St at 5th St)</td>\n",
       "      <td>37.783899</td>\n",
       "      <td>-122.408445</td>\n",
       "      <td>98.0</td>\n",
       "      <td>Valencia St at 16th St</td>\n",
       "      <td>37.765052</td>\n",
       "      <td>-122.421866</td>\n",
       "      <td>6168</td>\n",
       "      <td>Subscriber</td>\n",
       "      <td>NaN</td>\n",
       "      <td>NaN</td>\n",
       "      <td>No</td>\n",
       "    </tr>\n",
       "    <tr>\n",
       "      <th>85465</th>\n",
       "      <td>84548</td>\n",
       "      <td>2019-02-16 15:48:25.0290</td>\n",
       "      <td>2019-02-17 15:17:33.0800</td>\n",
       "      <td>3.0</td>\n",
       "      <td>Powell St BART Station (Market St at 4th St)</td>\n",
       "      <td>37.786375</td>\n",
       "      <td>-122.404904</td>\n",
       "      <td>368.0</td>\n",
       "      <td>Myrtle St at Polk St</td>\n",
       "      <td>37.785434</td>\n",
       "      <td>-122.419622</td>\n",
       "      <td>6301</td>\n",
       "      <td>Subscriber</td>\n",
       "      <td>1981.0</td>\n",
       "      <td>Male</td>\n",
       "      <td>No</td>\n",
       "    </tr>\n",
       "    <tr>\n",
       "      <th>153705</th>\n",
       "      <td>83772</td>\n",
       "      <td>2019-02-05 12:44:54.2860</td>\n",
       "      <td>2019-02-06 12:01:06.6310</td>\n",
       "      <td>78.0</td>\n",
       "      <td>Folsom St at 9th St</td>\n",
       "      <td>37.773717</td>\n",
       "      <td>-122.411647</td>\n",
       "      <td>345.0</td>\n",
       "      <td>Hubbell St at 16th St</td>\n",
       "      <td>37.766483</td>\n",
       "      <td>-122.398279</td>\n",
       "      <td>3405</td>\n",
       "      <td>Customer</td>\n",
       "      <td>NaN</td>\n",
       "      <td>NaN</td>\n",
       "      <td>No</td>\n",
       "    </tr>\n",
       "    <tr>\n",
       "      <th>127999</th>\n",
       "      <td>83519</td>\n",
       "      <td>2019-02-09 15:16:17.5370</td>\n",
       "      <td>2019-02-10 14:28:17.2700</td>\n",
       "      <td>72.0</td>\n",
       "      <td>Page St at Scott St</td>\n",
       "      <td>37.772406</td>\n",
       "      <td>-122.435650</td>\n",
       "      <td>43.0</td>\n",
       "      <td>San Francisco Public Library (Grove St at Hyde...</td>\n",
       "      <td>37.778768</td>\n",
       "      <td>-122.415929</td>\n",
       "      <td>5561</td>\n",
       "      <td>Customer</td>\n",
       "      <td>1990.0</td>\n",
       "      <td>Male</td>\n",
       "      <td>No</td>\n",
       "    </tr>\n",
       "    <tr>\n",
       "      <th>112435</th>\n",
       "      <td>83407</td>\n",
       "      <td>2019-02-11 16:25:33.0690</td>\n",
       "      <td>2019-02-12 15:35:40.9560</td>\n",
       "      <td>77.0</td>\n",
       "      <td>11th St at Natoma St</td>\n",
       "      <td>37.773507</td>\n",
       "      <td>-122.416040</td>\n",
       "      <td>344.0</td>\n",
       "      <td>16th St Depot</td>\n",
       "      <td>37.766349</td>\n",
       "      <td>-122.396292</td>\n",
       "      <td>1842</td>\n",
       "      <td>Customer</td>\n",
       "      <td>1988.0</td>\n",
       "      <td>Male</td>\n",
       "      <td>No</td>\n",
       "    </tr>\n",
       "    <tr>\n",
       "      <th>5203</th>\n",
       "      <td>83195</td>\n",
       "      <td>2019-02-27 14:47:23.1810</td>\n",
       "      <td>2019-02-28 13:53:58.4330</td>\n",
       "      <td>243.0</td>\n",
       "      <td>Bancroft Way at College Ave</td>\n",
       "      <td>37.869360</td>\n",
       "      <td>-122.254337</td>\n",
       "      <td>248.0</td>\n",
       "      <td>Telegraph Ave at Ashby Ave</td>\n",
       "      <td>37.855956</td>\n",
       "      <td>-122.259795</td>\n",
       "      <td>5781</td>\n",
       "      <td>Subscriber</td>\n",
       "      <td>1962.0</td>\n",
       "      <td>Female</td>\n",
       "      <td>Yes</td>\n",
       "    </tr>\n",
       "    <tr>\n",
       "      <th>95750</th>\n",
       "      <td>82512</td>\n",
       "      <td>2019-02-14 13:56:21.7280</td>\n",
       "      <td>2019-02-15 12:51:34.3150</td>\n",
       "      <td>368.0</td>\n",
       "      <td>Myrtle St at Polk St</td>\n",
       "      <td>37.785434</td>\n",
       "      <td>-122.419622</td>\n",
       "      <td>44.0</td>\n",
       "      <td>Civic Center/UN Plaza BART Station (Market St ...</td>\n",
       "      <td>37.781074</td>\n",
       "      <td>-122.411738</td>\n",
       "      <td>6152</td>\n",
       "      <td>Customer</td>\n",
       "      <td>1998.0</td>\n",
       "      <td>Other</td>\n",
       "      <td>No</td>\n",
       "    </tr>\n",
       "    <tr>\n",
       "      <th>173365</th>\n",
       "      <td>82385</td>\n",
       "      <td>2019-02-02 13:07:43.0360</td>\n",
       "      <td>2019-02-03 12:00:48.1750</td>\n",
       "      <td>377.0</td>\n",
       "      <td>Fell St at Stanyan St</td>\n",
       "      <td>37.771917</td>\n",
       "      <td>-122.453704</td>\n",
       "      <td>377.0</td>\n",
       "      <td>Fell St at Stanyan St</td>\n",
       "      <td>37.771917</td>\n",
       "      <td>-122.453704</td>\n",
       "      <td>2933</td>\n",
       "      <td>Customer</td>\n",
       "      <td>NaN</td>\n",
       "      <td>NaN</td>\n",
       "      <td>No</td>\n",
       "    </tr>\n",
       "    <tr>\n",
       "      <th>8631</th>\n",
       "      <td>81549</td>\n",
       "      <td>2019-02-27 09:41:38.5520</td>\n",
       "      <td>2019-02-28 08:20:48.3860</td>\n",
       "      <td>138.0</td>\n",
       "      <td>Jersey St at Church St</td>\n",
       "      <td>37.750900</td>\n",
       "      <td>-122.427411</td>\n",
       "      <td>140.0</td>\n",
       "      <td>Cesar Chavez St at Dolores St</td>\n",
       "      <td>37.747858</td>\n",
       "      <td>-122.424986</td>\n",
       "      <td>2266</td>\n",
       "      <td>Subscriber</td>\n",
       "      <td>1963.0</td>\n",
       "      <td>Female</td>\n",
       "      <td>No</td>\n",
       "    </tr>\n",
       "    <tr>\n",
       "      <th>176987</th>\n",
       "      <td>80891</td>\n",
       "      <td>2019-02-01 11:05:18.9760</td>\n",
       "      <td>2019-02-02 09:33:30.1690</td>\n",
       "      <td>44.0</td>\n",
       "      <td>Civic Center/UN Plaza BART Station (Market St ...</td>\n",
       "      <td>37.781074</td>\n",
       "      <td>-122.411738</td>\n",
       "      <td>55.0</td>\n",
       "      <td>Webster St at Grove St</td>\n",
       "      <td>37.777053</td>\n",
       "      <td>-122.429558</td>\n",
       "      <td>3133</td>\n",
       "      <td>Customer</td>\n",
       "      <td>NaN</td>\n",
       "      <td>NaN</td>\n",
       "      <td>No</td>\n",
       "    </tr>\n",
       "  </tbody>\n",
       "</table>\n",
       "</div>"
      ],
      "text/plain": [
       "        duration_sec                start_time                  end_time  \\\n",
       "101361         85444  2019-02-13 17:59:55.1240  2019-02-14 17:43:59.9540   \n",
       "85465          84548  2019-02-16 15:48:25.0290  2019-02-17 15:17:33.0800   \n",
       "153705         83772  2019-02-05 12:44:54.2860  2019-02-06 12:01:06.6310   \n",
       "127999         83519  2019-02-09 15:16:17.5370  2019-02-10 14:28:17.2700   \n",
       "112435         83407  2019-02-11 16:25:33.0690  2019-02-12 15:35:40.9560   \n",
       "5203           83195  2019-02-27 14:47:23.1810  2019-02-28 13:53:58.4330   \n",
       "95750          82512  2019-02-14 13:56:21.7280  2019-02-15 12:51:34.3150   \n",
       "173365         82385  2019-02-02 13:07:43.0360  2019-02-03 12:00:48.1750   \n",
       "8631           81549  2019-02-27 09:41:38.5520  2019-02-28 08:20:48.3860   \n",
       "176987         80891  2019-02-01 11:05:18.9760  2019-02-02 09:33:30.1690   \n",
       "\n",
       "        start_station_id                                 start_station_name  \\\n",
       "101361               5.0       Powell St BART Station (Market St at 5th St)   \n",
       "85465                3.0       Powell St BART Station (Market St at 4th St)   \n",
       "153705              78.0                                Folsom St at 9th St   \n",
       "127999              72.0                                Page St at Scott St   \n",
       "112435              77.0                               11th St at Natoma St   \n",
       "5203               243.0                        Bancroft Way at College Ave   \n",
       "95750              368.0                               Myrtle St at Polk St   \n",
       "173365             377.0                              Fell St at Stanyan St   \n",
       "8631               138.0                             Jersey St at Church St   \n",
       "176987              44.0  Civic Center/UN Plaza BART Station (Market St ...   \n",
       "\n",
       "        start_station_latitude  start_station_longitude  end_station_id  \\\n",
       "101361               37.783899              -122.408445            98.0   \n",
       "85465                37.786375              -122.404904           368.0   \n",
       "153705               37.773717              -122.411647           345.0   \n",
       "127999               37.772406              -122.435650            43.0   \n",
       "112435               37.773507              -122.416040           344.0   \n",
       "5203                 37.869360              -122.254337           248.0   \n",
       "95750                37.785434              -122.419622            44.0   \n",
       "173365               37.771917              -122.453704           377.0   \n",
       "8631                 37.750900              -122.427411           140.0   \n",
       "176987               37.781074              -122.411738            55.0   \n",
       "\n",
       "                                         end_station_name  \\\n",
       "101361                             Valencia St at 16th St   \n",
       "85465                                Myrtle St at Polk St   \n",
       "153705                              Hubbell St at 16th St   \n",
       "127999  San Francisco Public Library (Grove St at Hyde...   \n",
       "112435                                      16th St Depot   \n",
       "5203                           Telegraph Ave at Ashby Ave   \n",
       "95750   Civic Center/UN Plaza BART Station (Market St ...   \n",
       "173365                              Fell St at Stanyan St   \n",
       "8631                        Cesar Chavez St at Dolores St   \n",
       "176987                             Webster St at Grove St   \n",
       "\n",
       "        end_station_latitude  end_station_longitude  bike_id   user_type  \\\n",
       "101361             37.765052            -122.421866     6168  Subscriber   \n",
       "85465              37.785434            -122.419622     6301  Subscriber   \n",
       "153705             37.766483            -122.398279     3405    Customer   \n",
       "127999             37.778768            -122.415929     5561    Customer   \n",
       "112435             37.766349            -122.396292     1842    Customer   \n",
       "5203               37.855956            -122.259795     5781  Subscriber   \n",
       "95750              37.781074            -122.411738     6152    Customer   \n",
       "173365             37.771917            -122.453704     2933    Customer   \n",
       "8631               37.747858            -122.424986     2266  Subscriber   \n",
       "176987             37.777053            -122.429558     3133    Customer   \n",
       "\n",
       "        member_birth_year member_gender bike_share_for_all_trip  \n",
       "101361                NaN           NaN                      No  \n",
       "85465              1981.0          Male                      No  \n",
       "153705                NaN           NaN                      No  \n",
       "127999             1990.0          Male                      No  \n",
       "112435             1988.0          Male                      No  \n",
       "5203               1962.0        Female                     Yes  \n",
       "95750              1998.0         Other                      No  \n",
       "173365                NaN           NaN                      No  \n",
       "8631               1963.0        Female                      No  \n",
       "176987                NaN           NaN                      No  "
      ]
     },
     "execution_count": 18,
     "metadata": {},
     "output_type": "execute_result"
    }
   ],
   "source": [
    "#Check for the 10 max durations to see if there are any outliers\n",
    "go_df.nlargest(10, ['duration_sec'])"
   ]
  },
  {
   "cell_type": "code",
   "execution_count": 19,
   "metadata": {},
   "outputs": [
    {
     "data": {
      "text/plain": [
       "0"
      ]
     },
     "execution_count": 19,
     "metadata": {},
     "output_type": "execute_result"
    }
   ],
   "source": [
    "go_df.duplicated().sum()"
   ]
  },
  {
   "cell_type": "code",
   "execution_count": 20,
   "metadata": {},
   "outputs": [
    {
     "data": {
      "text/plain": [
       "duration_sec                  0\n",
       "start_time                    0\n",
       "end_time                      0\n",
       "start_station_id            197\n",
       "start_station_name          197\n",
       "start_station_latitude        0\n",
       "start_station_longitude       0\n",
       "end_station_id              197\n",
       "end_station_name            197\n",
       "end_station_latitude          0\n",
       "end_station_longitude         0\n",
       "bike_id                       0\n",
       "user_type                     0\n",
       "member_birth_year          8265\n",
       "member_gender              8265\n",
       "bike_share_for_all_trip       0\n",
       "dtype: int64"
      ]
     },
     "execution_count": 20,
     "metadata": {},
     "output_type": "execute_result"
    }
   ],
   "source": [
    "go_df.isna().sum()"
   ]
  },
  {
   "cell_type": "markdown",
   "metadata": {},
   "source": [
    "#### Tidiness Issues\n",
    "T1. Some columns are unnecessary for analysis\n",
    "T2. Representation of time in seconds may give an unclear perspective of time\n",
    "\n",
    "#### Quality Issues\n",
    "Q1. There are missing records in member_birth_year, member_gender and bike_share_for_all_trip columns\n",
    "Q2. bike_id has an incorrect datatype\n",
    "Q3. There is no column for user age\n"
   ]
  },
  {
   "cell_type": "markdown",
   "metadata": {},
   "source": [
    "<a id='cleaning'></a>\n",
    "# Cleaning Data\n",
    " \n",
    " In the next step, we will be cleaning the data according to the issues that have been identified. First we must create copies of all of the original data."
   ]
  },
  {
   "cell_type": "code",
   "execution_count": 29,
   "metadata": {},
   "outputs": [],
   "source": [
    "#Create copies of the original data\n",
    "clean_go=go_df.copy()"
   ]
  },
  {
   "cell_type": "markdown",
   "metadata": {},
   "source": [
    "## Cleaning Tidiness Issues\n",
    "\n",
    "### T1. Some columns are unnecessary for analysis\n",
    "\n",
    "#### Define\n",
    "\n",
    "Delete Unnecessary data from the dataset including start_station_latitude, start_station_longitude, end_station_latitude, end_station_longitude\n",
    "\n",
    "#### Code"
   ]
  },
  {
   "cell_type": "code",
   "execution_count": 30,
   "metadata": {},
   "outputs": [],
   "source": [
    "clean_go.drop(['start_station_latitude', 'start_station_longitude', 'end_station_latitude', 'end_station_longitude'], axis=1, inplace=True)"
   ]
  },
  {
   "cell_type": "markdown",
   "metadata": {},
   "source": [
    "#### Test"
   ]
  },
  {
   "cell_type": "code",
   "execution_count": 31,
   "metadata": {},
   "outputs": [
    {
     "name": "stdout",
     "output_type": "stream",
     "text": [
      "<class 'pandas.core.frame.DataFrame'>\n",
      "RangeIndex: 183412 entries, 0 to 183411\n",
      "Data columns (total 12 columns):\n",
      " #   Column                   Non-Null Count   Dtype  \n",
      "---  ------                   --------------   -----  \n",
      " 0   duration_sec             183412 non-null  int64  \n",
      " 1   start_time               183412 non-null  object \n",
      " 2   end_time                 183412 non-null  object \n",
      " 3   start_station_id         183215 non-null  float64\n",
      " 4   start_station_name       183215 non-null  object \n",
      " 5   end_station_id           183215 non-null  float64\n",
      " 6   end_station_name         183215 non-null  object \n",
      " 7   bike_id                  183412 non-null  int64  \n",
      " 8   user_type                183412 non-null  object \n",
      " 9   member_birth_year        175147 non-null  float64\n",
      " 10  member_gender            175147 non-null  object \n",
      " 11  bike_share_for_all_trip  183412 non-null  object \n",
      "dtypes: float64(3), int64(2), object(7)\n",
      "memory usage: 16.8+ MB\n"
     ]
    }
   ],
   "source": [
    "clean_go.info()"
   ]
  },
  {
   "cell_type": "markdown",
   "metadata": {},
   "source": [
    "### T2. Representation of time in seconds may give an unclear perspective of time\n",
    "\n",
    "#### Define\n",
    "\n",
    "Add columns with representations of this data in minutes, hours and days\n",
    "\n",
    "#### Code"
   ]
  },
  {
   "cell_type": "code",
   "execution_count": 32,
   "metadata": {},
   "outputs": [],
   "source": [
    "clean_go.insert(1, 'duration_minutes', clean_go.duration_sec/60)\n",
    "clean_go.insert(2, 'duration_hours', clean_go.duration_sec/3600)\n",
    "clean_go.insert(3, 'duration_days', clean_go.duration_hours/24)"
   ]
  },
  {
   "cell_type": "markdown",
   "metadata": {},
   "source": [
    "#### Test"
   ]
  },
  {
   "cell_type": "code",
   "execution_count": 33,
   "metadata": {},
   "outputs": [
    {
     "data": {
      "text/html": [
       "<div>\n",
       "<style scoped>\n",
       "    .dataframe tbody tr th:only-of-type {\n",
       "        vertical-align: middle;\n",
       "    }\n",
       "\n",
       "    .dataframe tbody tr th {\n",
       "        vertical-align: top;\n",
       "    }\n",
       "\n",
       "    .dataframe thead th {\n",
       "        text-align: right;\n",
       "    }\n",
       "</style>\n",
       "<table border=\"1\" class=\"dataframe\">\n",
       "  <thead>\n",
       "    <tr style=\"text-align: right;\">\n",
       "      <th></th>\n",
       "      <th>duration_sec</th>\n",
       "      <th>duration_minutes</th>\n",
       "      <th>duration_hours</th>\n",
       "      <th>duration_days</th>\n",
       "      <th>start_time</th>\n",
       "      <th>end_time</th>\n",
       "      <th>start_station_id</th>\n",
       "      <th>start_station_name</th>\n",
       "      <th>end_station_id</th>\n",
       "      <th>end_station_name</th>\n",
       "      <th>bike_id</th>\n",
       "      <th>user_type</th>\n",
       "      <th>member_birth_year</th>\n",
       "      <th>member_gender</th>\n",
       "      <th>bike_share_for_all_trip</th>\n",
       "    </tr>\n",
       "  </thead>\n",
       "  <tbody>\n",
       "    <tr>\n",
       "      <th>0</th>\n",
       "      <td>52185</td>\n",
       "      <td>869.750000</td>\n",
       "      <td>14.495833</td>\n",
       "      <td>0.603993</td>\n",
       "      <td>2019-02-28 17:32:10.1450</td>\n",
       "      <td>2019-03-01 08:01:55.9750</td>\n",
       "      <td>21.0</td>\n",
       "      <td>Montgomery St BART Station (Market St at 2nd St)</td>\n",
       "      <td>13.0</td>\n",
       "      <td>Commercial St at Montgomery St</td>\n",
       "      <td>4902</td>\n",
       "      <td>Customer</td>\n",
       "      <td>1984.0</td>\n",
       "      <td>Male</td>\n",
       "      <td>No</td>\n",
       "    </tr>\n",
       "    <tr>\n",
       "      <th>1</th>\n",
       "      <td>42521</td>\n",
       "      <td>708.683333</td>\n",
       "      <td>11.811389</td>\n",
       "      <td>0.492141</td>\n",
       "      <td>2019-02-28 18:53:21.7890</td>\n",
       "      <td>2019-03-01 06:42:03.0560</td>\n",
       "      <td>23.0</td>\n",
       "      <td>The Embarcadero at Steuart St</td>\n",
       "      <td>81.0</td>\n",
       "      <td>Berry St at 4th St</td>\n",
       "      <td>2535</td>\n",
       "      <td>Customer</td>\n",
       "      <td>NaN</td>\n",
       "      <td>NaN</td>\n",
       "      <td>No</td>\n",
       "    </tr>\n",
       "    <tr>\n",
       "      <th>2</th>\n",
       "      <td>61854</td>\n",
       "      <td>1030.900000</td>\n",
       "      <td>17.181667</td>\n",
       "      <td>0.715903</td>\n",
       "      <td>2019-02-28 12:13:13.2180</td>\n",
       "      <td>2019-03-01 05:24:08.1460</td>\n",
       "      <td>86.0</td>\n",
       "      <td>Market St at Dolores St</td>\n",
       "      <td>3.0</td>\n",
       "      <td>Powell St BART Station (Market St at 4th St)</td>\n",
       "      <td>5905</td>\n",
       "      <td>Customer</td>\n",
       "      <td>1972.0</td>\n",
       "      <td>Male</td>\n",
       "      <td>No</td>\n",
       "    </tr>\n",
       "    <tr>\n",
       "      <th>3</th>\n",
       "      <td>36490</td>\n",
       "      <td>608.166667</td>\n",
       "      <td>10.136111</td>\n",
       "      <td>0.422338</td>\n",
       "      <td>2019-02-28 17:54:26.0100</td>\n",
       "      <td>2019-03-01 04:02:36.8420</td>\n",
       "      <td>375.0</td>\n",
       "      <td>Grove St at Masonic Ave</td>\n",
       "      <td>70.0</td>\n",
       "      <td>Central Ave at Fell St</td>\n",
       "      <td>6638</td>\n",
       "      <td>Subscriber</td>\n",
       "      <td>1989.0</td>\n",
       "      <td>Other</td>\n",
       "      <td>No</td>\n",
       "    </tr>\n",
       "    <tr>\n",
       "      <th>4</th>\n",
       "      <td>1585</td>\n",
       "      <td>26.416667</td>\n",
       "      <td>0.440278</td>\n",
       "      <td>0.018345</td>\n",
       "      <td>2019-02-28 23:54:18.5490</td>\n",
       "      <td>2019-03-01 00:20:44.0740</td>\n",
       "      <td>7.0</td>\n",
       "      <td>Frank H Ogawa Plaza</td>\n",
       "      <td>222.0</td>\n",
       "      <td>10th Ave at E 15th St</td>\n",
       "      <td>4898</td>\n",
       "      <td>Subscriber</td>\n",
       "      <td>1974.0</td>\n",
       "      <td>Male</td>\n",
       "      <td>Yes</td>\n",
       "    </tr>\n",
       "  </tbody>\n",
       "</table>\n",
       "</div>"
      ],
      "text/plain": [
       "   duration_sec  duration_minutes  duration_hours  duration_days  \\\n",
       "0         52185        869.750000       14.495833       0.603993   \n",
       "1         42521        708.683333       11.811389       0.492141   \n",
       "2         61854       1030.900000       17.181667       0.715903   \n",
       "3         36490        608.166667       10.136111       0.422338   \n",
       "4          1585         26.416667        0.440278       0.018345   \n",
       "\n",
       "                 start_time                  end_time  start_station_id  \\\n",
       "0  2019-02-28 17:32:10.1450  2019-03-01 08:01:55.9750              21.0   \n",
       "1  2019-02-28 18:53:21.7890  2019-03-01 06:42:03.0560              23.0   \n",
       "2  2019-02-28 12:13:13.2180  2019-03-01 05:24:08.1460              86.0   \n",
       "3  2019-02-28 17:54:26.0100  2019-03-01 04:02:36.8420             375.0   \n",
       "4  2019-02-28 23:54:18.5490  2019-03-01 00:20:44.0740               7.0   \n",
       "\n",
       "                                 start_station_name  end_station_id  \\\n",
       "0  Montgomery St BART Station (Market St at 2nd St)            13.0   \n",
       "1                     The Embarcadero at Steuart St            81.0   \n",
       "2                           Market St at Dolores St             3.0   \n",
       "3                           Grove St at Masonic Ave            70.0   \n",
       "4                               Frank H Ogawa Plaza           222.0   \n",
       "\n",
       "                               end_station_name  bike_id   user_type  \\\n",
       "0                Commercial St at Montgomery St     4902    Customer   \n",
       "1                            Berry St at 4th St     2535    Customer   \n",
       "2  Powell St BART Station (Market St at 4th St)     5905    Customer   \n",
       "3                        Central Ave at Fell St     6638  Subscriber   \n",
       "4                         10th Ave at E 15th St     4898  Subscriber   \n",
       "\n",
       "   member_birth_year member_gender bike_share_for_all_trip  \n",
       "0             1984.0          Male                      No  \n",
       "1                NaN           NaN                      No  \n",
       "2             1972.0          Male                      No  \n",
       "3             1989.0         Other                      No  \n",
       "4             1974.0          Male                     Yes  "
      ]
     },
     "execution_count": 33,
     "metadata": {},
     "output_type": "execute_result"
    }
   ],
   "source": [
    "clean_go.head()"
   ]
  },
  {
   "cell_type": "markdown",
   "metadata": {},
   "source": [
    "## Cleaning Quality Issues\n",
    "\n",
    "### Q1. There are missing records in member_birth_year, member_gender and bike_share_for_all_trip columns\n",
    "\n",
    "#### Define\n",
    "\n",
    "Replace all missing data\n",
    "\n",
    "#### Code"
   ]
  },
  {
   "cell_type": "code",
   "execution_count": 34,
   "metadata": {},
   "outputs": [
    {
     "data": {
      "text/plain": [
       "duration_sec                  0\n",
       "duration_minutes              0\n",
       "duration_hours                0\n",
       "duration_days                 0\n",
       "start_time                    0\n",
       "end_time                      0\n",
       "start_station_id            197\n",
       "start_station_name          197\n",
       "end_station_id              197\n",
       "end_station_name            197\n",
       "bike_id                       0\n",
       "user_type                     0\n",
       "member_birth_year          8265\n",
       "member_gender              8265\n",
       "bike_share_for_all_trip       0\n",
       "dtype: int64"
      ]
     },
     "execution_count": 34,
     "metadata": {},
     "output_type": "execute_result"
    }
   ],
   "source": [
    "clean_go.isna().sum() "
   ]
  },
  {
   "cell_type": "code",
   "execution_count": 35,
   "metadata": {},
   "outputs": [],
   "source": [
    "#We will use a forloop to fill in all missing data\n",
    "for val in [\"end_station_id\", \"start_station_id\", \"start_station_name\", \"end_station_name\", \"member_birth_year\"]:\n",
    "    clean_go[val] = clean_go[val].fillna(clean_go[val].mode()[0])"
   ]
  },
  {
   "cell_type": "code",
   "execution_count": 36,
   "metadata": {},
   "outputs": [
    {
     "data": {
      "text/plain": [
       "duration_sec                  0\n",
       "duration_minutes              0\n",
       "duration_hours                0\n",
       "duration_days                 0\n",
       "start_time                    0\n",
       "end_time                      0\n",
       "start_station_id              0\n",
       "start_station_name            0\n",
       "end_station_id                0\n",
       "end_station_name              0\n",
       "bike_id                       0\n",
       "user_type                     0\n",
       "member_birth_year             0\n",
       "member_gender              8265\n",
       "bike_share_for_all_trip       0\n",
       "dtype: int64"
      ]
     },
     "execution_count": 36,
     "metadata": {},
     "output_type": "execute_result"
    }
   ],
   "source": [
    "clean_go.isna().sum() "
   ]
  },
  {
   "cell_type": "code",
   "execution_count": 37,
   "metadata": {},
   "outputs": [
    {
     "data": {
      "text/plain": [
       "Male      130651\n",
       "Female     40844\n",
       "Other       3652\n",
       "Name: member_gender, dtype: int64"
      ]
     },
     "execution_count": 37,
     "metadata": {},
     "output_type": "execute_result"
    }
   ],
   "source": [
    "#First we check the existing male to female values. Considering that the gender values skew towards male figures\n",
    "clean_go.member_gender.value_counts()"
   ]
  },
  {
   "cell_type": "code",
   "execution_count": 38,
   "metadata": {},
   "outputs": [],
   "source": [
    "#Lets fill dataframe with missing values\n",
    "\n",
    "clean_go[\"member_gender\"] = clean_go[\"member_gender\"].fillna(\"Female\")"
   ]
  },
  {
   "cell_type": "markdown",
   "metadata": {},
   "source": [
    "#### Test"
   ]
  },
  {
   "cell_type": "code",
   "execution_count": 39,
   "metadata": {},
   "outputs": [
    {
     "data": {
      "text/plain": [
       "duration_sec               0\n",
       "duration_minutes           0\n",
       "duration_hours             0\n",
       "duration_days              0\n",
       "start_time                 0\n",
       "end_time                   0\n",
       "start_station_id           0\n",
       "start_station_name         0\n",
       "end_station_id             0\n",
       "end_station_name           0\n",
       "bike_id                    0\n",
       "user_type                  0\n",
       "member_birth_year          0\n",
       "member_gender              0\n",
       "bike_share_for_all_trip    0\n",
       "dtype: int64"
      ]
     },
     "execution_count": 39,
     "metadata": {},
     "output_type": "execute_result"
    }
   ],
   "source": [
    "#There are no more missing values\n",
    "clean_go.isna().sum() "
   ]
  },
  {
   "cell_type": "markdown",
   "metadata": {},
   "source": [
    "## Cleaning Quality Issues\n",
    "\n",
    "### Q2. bike_id, end_station_id and start_station_id has an incorrect datatype\n",
    "\n",
    "#### Define\n",
    "\n",
    "Change datatypes for bike_id, end_station_id and start_station_id\n",
    "\n",
    "#### Code"
   ]
  },
  {
   "cell_type": "code",
   "execution_count": 42,
   "metadata": {},
   "outputs": [],
   "source": [
    "clean_go[['bike_id', 'end_station_id', 'start_station_id']]= clean_go[['bike_id', 'end_station_id', 'start_station_id']].astype(str)"
   ]
  },
  {
   "cell_type": "markdown",
   "metadata": {},
   "source": [
    "#### Test"
   ]
  },
  {
   "cell_type": "code",
   "execution_count": 43,
   "metadata": {},
   "outputs": [
    {
     "name": "stdout",
     "output_type": "stream",
     "text": [
      "<class 'pandas.core.frame.DataFrame'>\n",
      "RangeIndex: 183412 entries, 0 to 183411\n",
      "Data columns (total 15 columns):\n",
      " #   Column                   Non-Null Count   Dtype  \n",
      "---  ------                   --------------   -----  \n",
      " 0   duration_sec             183412 non-null  int64  \n",
      " 1   duration_minutes         183412 non-null  float64\n",
      " 2   duration_hours           183412 non-null  float64\n",
      " 3   duration_days            183412 non-null  float64\n",
      " 4   start_time               183412 non-null  object \n",
      " 5   end_time                 183412 non-null  object \n",
      " 6   start_station_id         183412 non-null  object \n",
      " 7   start_station_name       183412 non-null  object \n",
      " 8   end_station_id           183412 non-null  object \n",
      " 9   end_station_name         183412 non-null  object \n",
      " 10  bike_id                  183412 non-null  object \n",
      " 11  user_type                183412 non-null  object \n",
      " 12  member_birth_year        183412 non-null  float64\n",
      " 13  member_gender            183412 non-null  object \n",
      " 14  bike_share_for_all_trip  183412 non-null  object \n",
      "dtypes: float64(4), int64(1), object(10)\n",
      "memory usage: 21.0+ MB\n"
     ]
    }
   ],
   "source": [
    "clean_go.info()"
   ]
  },
  {
   "cell_type": "markdown",
   "metadata": {},
   "source": [
    "## Cleaning Quality Issues\n",
    "\n",
    "### Q3. There is no column for user age\n",
    "\n",
    "#### Define\n",
    "\n",
    "Create a column for age\n",
    "\n",
    "#### Code"
   ]
  },
  {
   "cell_type": "code",
   "execution_count": 66,
   "metadata": {},
   "outputs": [],
   "source": [
    "clean_go['age'] = 2019 - clean_go['member_birth_year']"
   ]
  },
  {
   "cell_type": "markdown",
   "metadata": {},
   "source": [
    "#### Test"
   ]
  },
  {
   "cell_type": "code",
   "execution_count": 67,
   "metadata": {},
   "outputs": [
    {
     "name": "stdout",
     "output_type": "stream",
     "text": [
      "<class 'pandas.core.frame.DataFrame'>\n",
      "RangeIndex: 183412 entries, 0 to 183411\n",
      "Data columns (total 16 columns):\n",
      " #   Column                   Non-Null Count   Dtype  \n",
      "---  ------                   --------------   -----  \n",
      " 0   duration_sec             183412 non-null  int64  \n",
      " 1   duration_minutes         183412 non-null  float64\n",
      " 2   duration_hours           183412 non-null  float64\n",
      " 3   duration_days            183412 non-null  float64\n",
      " 4   start_time               183412 non-null  object \n",
      " 5   end_time                 183412 non-null  object \n",
      " 6   start_station_id         183412 non-null  object \n",
      " 7   start_station_name       183412 non-null  object \n",
      " 8   end_station_id           183412 non-null  object \n",
      " 9   end_station_name         183412 non-null  object \n",
      " 10  bike_id                  183412 non-null  object \n",
      " 11  user_type                183412 non-null  object \n",
      " 12  member_birth_year        183412 non-null  float64\n",
      " 13  member_gender            183412 non-null  object \n",
      " 14  bike_share_for_all_trip  183412 non-null  object \n",
      " 15  age                      183412 non-null  float64\n",
      "dtypes: float64(5), int64(1), object(10)\n",
      "memory usage: 22.4+ MB\n"
     ]
    }
   ],
   "source": [
    "clean_go.info()"
   ]
  },
  {
   "cell_type": "code",
   "execution_count": 68,
   "metadata": {},
   "outputs": [],
   "source": [
    "#Change age to int64 datatype for easy representation\n",
    "clean_go.age=clean_go.age.astype('int64')"
   ]
  },
  {
   "cell_type": "markdown",
   "metadata": {},
   "source": [
    "#### Test"
   ]
  },
  {
   "cell_type": "code",
   "execution_count": 69,
   "metadata": {},
   "outputs": [
    {
     "name": "stdout",
     "output_type": "stream",
     "text": [
      "<class 'pandas.core.frame.DataFrame'>\n",
      "RangeIndex: 183412 entries, 0 to 183411\n",
      "Data columns (total 16 columns):\n",
      " #   Column                   Non-Null Count   Dtype  \n",
      "---  ------                   --------------   -----  \n",
      " 0   duration_sec             183412 non-null  int64  \n",
      " 1   duration_minutes         183412 non-null  float64\n",
      " 2   duration_hours           183412 non-null  float64\n",
      " 3   duration_days            183412 non-null  float64\n",
      " 4   start_time               183412 non-null  object \n",
      " 5   end_time                 183412 non-null  object \n",
      " 6   start_station_id         183412 non-null  object \n",
      " 7   start_station_name       183412 non-null  object \n",
      " 8   end_station_id           183412 non-null  object \n",
      " 9   end_station_name         183412 non-null  object \n",
      " 10  bike_id                  183412 non-null  object \n",
      " 11  user_type                183412 non-null  object \n",
      " 12  member_birth_year        183412 non-null  float64\n",
      " 13  member_gender            183412 non-null  object \n",
      " 14  bike_share_for_all_trip  183412 non-null  object \n",
      " 15  age                      183412 non-null  int64  \n",
      "dtypes: float64(4), int64(2), object(10)\n",
      "memory usage: 22.4+ MB\n"
     ]
    }
   ],
   "source": [
    "clean_go.info()"
   ]
  },
  {
   "cell_type": "code",
   "execution_count": 77,
   "metadata": {},
   "outputs": [
    {
     "data": {
      "text/plain": [
       "count    183412.000000\n",
       "mean         34.049653\n",
       "std           9.908290\n",
       "min          18.000000\n",
       "25%          27.000000\n",
       "50%          31.000000\n",
       "75%          38.000000\n",
       "max         141.000000\n",
       "Name: age, dtype: float64"
      ]
     },
     "execution_count": 77,
     "metadata": {},
     "output_type": "execute_result"
    }
   ],
   "source": [
    "#Check average user data for age\n",
    "df_go.age.describe()"
   ]
  },
  {
   "cell_type": "markdown",
   "metadata": {},
   "source": [
    "There are appears to be outliers in the age data, so remove outliers"
   ]
  },
  {
   "cell_type": "code",
   "execution_count": 86,
   "metadata": {},
   "outputs": [
    {
     "data": {
      "text/html": [
       "<div>\n",
       "<style scoped>\n",
       "    .dataframe tbody tr th:only-of-type {\n",
       "        vertical-align: middle;\n",
       "    }\n",
       "\n",
       "    .dataframe tbody tr th {\n",
       "        vertical-align: top;\n",
       "    }\n",
       "\n",
       "    .dataframe thead th {\n",
       "        text-align: right;\n",
       "    }\n",
       "</style>\n",
       "<table border=\"1\" class=\"dataframe\">\n",
       "  <thead>\n",
       "    <tr style=\"text-align: right;\">\n",
       "      <th></th>\n",
       "      <th>duration_sec</th>\n",
       "      <th>duration_minutes</th>\n",
       "      <th>duration_hours</th>\n",
       "      <th>duration_days</th>\n",
       "      <th>start_time</th>\n",
       "      <th>end_time</th>\n",
       "      <th>start_station_id</th>\n",
       "      <th>start_station_name</th>\n",
       "      <th>end_station_id</th>\n",
       "      <th>end_station_name</th>\n",
       "      <th>bike_id</th>\n",
       "      <th>user_type</th>\n",
       "      <th>member_birth_year</th>\n",
       "      <th>member_gender</th>\n",
       "      <th>bike_share_for_all_trip</th>\n",
       "      <th>age</th>\n",
       "    </tr>\n",
       "  </thead>\n",
       "  <tbody>\n",
       "    <tr>\n",
       "      <th>27370</th>\n",
       "      <td>1474</td>\n",
       "      <td>24.566667</td>\n",
       "      <td>0.409444</td>\n",
       "      <td>0.017060</td>\n",
       "      <td>2019-02-25 09:28:42.1610</td>\n",
       "      <td>2019-02-25 09:53:17.0680</td>\n",
       "      <td>15.0</td>\n",
       "      <td>San Francisco Ferry Building (Harry Bridges Pl...</td>\n",
       "      <td>386.0</td>\n",
       "      <td>24th St at Bartlett St</td>\n",
       "      <td>6436</td>\n",
       "      <td>Customer</td>\n",
       "      <td>1878.0</td>\n",
       "      <td>Female</td>\n",
       "      <td>No</td>\n",
       "      <td>141</td>\n",
       "    </tr>\n",
       "    <tr>\n",
       "      <th>1285</th>\n",
       "      <td>148</td>\n",
       "      <td>2.466667</td>\n",
       "      <td>0.041111</td>\n",
       "      <td>0.001713</td>\n",
       "      <td>2019-02-28 19:29:17.6270</td>\n",
       "      <td>2019-02-28 19:31:45.9670</td>\n",
       "      <td>158.0</td>\n",
       "      <td>Shattuck Ave at Telegraph Ave</td>\n",
       "      <td>173.0</td>\n",
       "      <td>Shattuck Ave at 55th St</td>\n",
       "      <td>5391</td>\n",
       "      <td>Subscriber</td>\n",
       "      <td>1900.0</td>\n",
       "      <td>Male</td>\n",
       "      <td>Yes</td>\n",
       "      <td>119</td>\n",
       "    </tr>\n",
       "    <tr>\n",
       "      <th>10827</th>\n",
       "      <td>1315</td>\n",
       "      <td>21.916667</td>\n",
       "      <td>0.365278</td>\n",
       "      <td>0.015220</td>\n",
       "      <td>2019-02-27 19:21:34.4360</td>\n",
       "      <td>2019-02-27 19:43:30.0080</td>\n",
       "      <td>343.0</td>\n",
       "      <td>Bryant St at 2nd St</td>\n",
       "      <td>375.0</td>\n",
       "      <td>Grove St at Masonic Ave</td>\n",
       "      <td>6249</td>\n",
       "      <td>Subscriber</td>\n",
       "      <td>1900.0</td>\n",
       "      <td>Male</td>\n",
       "      <td>No</td>\n",
       "      <td>119</td>\n",
       "    </tr>\n",
       "    <tr>\n",
       "      <th>16087</th>\n",
       "      <td>1131</td>\n",
       "      <td>18.850000</td>\n",
       "      <td>0.314167</td>\n",
       "      <td>0.013090</td>\n",
       "      <td>2019-02-27 08:37:36.8640</td>\n",
       "      <td>2019-02-27 08:56:28.0220</td>\n",
       "      <td>375.0</td>\n",
       "      <td>Grove St at Masonic Ave</td>\n",
       "      <td>36.0</td>\n",
       "      <td>Folsom St at 3rd St</td>\n",
       "      <td>4968</td>\n",
       "      <td>Subscriber</td>\n",
       "      <td>1900.0</td>\n",
       "      <td>Male</td>\n",
       "      <td>No</td>\n",
       "      <td>119</td>\n",
       "    </tr>\n",
       "    <tr>\n",
       "      <th>19375</th>\n",
       "      <td>641</td>\n",
       "      <td>10.683333</td>\n",
       "      <td>0.178056</td>\n",
       "      <td>0.007419</td>\n",
       "      <td>2019-02-26 17:03:19.8550</td>\n",
       "      <td>2019-02-26 17:14:01.6190</td>\n",
       "      <td>9.0</td>\n",
       "      <td>Broadway at Battery St</td>\n",
       "      <td>30.0</td>\n",
       "      <td>San Francisco Caltrain (Townsend St at 4th St)</td>\n",
       "      <td>6164</td>\n",
       "      <td>Customer</td>\n",
       "      <td>1900.0</td>\n",
       "      <td>Male</td>\n",
       "      <td>No</td>\n",
       "      <td>119</td>\n",
       "    </tr>\n",
       "    <tr>\n",
       "      <th>...</th>\n",
       "      <td>...</td>\n",
       "      <td>...</td>\n",
       "      <td>...</td>\n",
       "      <td>...</td>\n",
       "      <td>...</td>\n",
       "      <td>...</td>\n",
       "      <td>...</td>\n",
       "      <td>...</td>\n",
       "      <td>...</td>\n",
       "      <td>...</td>\n",
       "      <td>...</td>\n",
       "      <td>...</td>\n",
       "      <td>...</td>\n",
       "      <td>...</td>\n",
       "      <td>...</td>\n",
       "      <td>...</td>\n",
       "    </tr>\n",
       "    <tr>\n",
       "      <th>43259</th>\n",
       "      <td>676</td>\n",
       "      <td>11.266667</td>\n",
       "      <td>0.187778</td>\n",
       "      <td>0.007824</td>\n",
       "      <td>2019-02-22 16:44:42.7780</td>\n",
       "      <td>2019-02-22 16:55:59.3870</td>\n",
       "      <td>21.0</td>\n",
       "      <td>Montgomery St BART Station (Market St at 2nd St)</td>\n",
       "      <td>67.0</td>\n",
       "      <td>San Francisco Caltrain Station 2  (Townsend St...</td>\n",
       "      <td>5545</td>\n",
       "      <td>Subscriber</td>\n",
       "      <td>1920.0</td>\n",
       "      <td>Male</td>\n",
       "      <td>No</td>\n",
       "      <td>99</td>\n",
       "    </tr>\n",
       "    <tr>\n",
       "      <th>183388</th>\n",
       "      <td>490</td>\n",
       "      <td>8.166667</td>\n",
       "      <td>0.136111</td>\n",
       "      <td>0.005671</td>\n",
       "      <td>2019-02-01 00:39:53.1120</td>\n",
       "      <td>2019-02-01 00:48:03.3380</td>\n",
       "      <td>61.0</td>\n",
       "      <td>Howard St at 8th St</td>\n",
       "      <td>81.0</td>\n",
       "      <td>Berry St at 4th St</td>\n",
       "      <td>5411</td>\n",
       "      <td>Subscriber</td>\n",
       "      <td>1927.0</td>\n",
       "      <td>Male</td>\n",
       "      <td>No</td>\n",
       "      <td>92</td>\n",
       "    </tr>\n",
       "    <tr>\n",
       "      <th>35746</th>\n",
       "      <td>568</td>\n",
       "      <td>9.466667</td>\n",
       "      <td>0.157778</td>\n",
       "      <td>0.006574</td>\n",
       "      <td>2019-02-23 17:46:46.1630</td>\n",
       "      <td>2019-02-23 17:56:14.9750</td>\n",
       "      <td>85.0</td>\n",
       "      <td>Church St at Duboce Ave</td>\n",
       "      <td>100.0</td>\n",
       "      <td>Bryant St at 15th St</td>\n",
       "      <td>6294</td>\n",
       "      <td>Customer</td>\n",
       "      <td>1928.0</td>\n",
       "      <td>Other</td>\n",
       "      <td>No</td>\n",
       "      <td>91</td>\n",
       "    </tr>\n",
       "    <tr>\n",
       "      <th>92647</th>\n",
       "      <td>829</td>\n",
       "      <td>13.816667</td>\n",
       "      <td>0.230278</td>\n",
       "      <td>0.009595</td>\n",
       "      <td>2019-02-15 18:29:33.1320</td>\n",
       "      <td>2019-02-15 18:43:22.5250</td>\n",
       "      <td>90.0</td>\n",
       "      <td>Townsend St at 7th St</td>\n",
       "      <td>109.0</td>\n",
       "      <td>17th St at Valencia St</td>\n",
       "      <td>3594</td>\n",
       "      <td>Customer</td>\n",
       "      <td>1930.0</td>\n",
       "      <td>Other</td>\n",
       "      <td>No</td>\n",
       "      <td>89</td>\n",
       "    </tr>\n",
       "    <tr>\n",
       "      <th>5197</th>\n",
       "      <td>217</td>\n",
       "      <td>3.616667</td>\n",
       "      <td>0.060278</td>\n",
       "      <td>0.002512</td>\n",
       "      <td>2019-02-28 13:51:46.2380</td>\n",
       "      <td>2019-02-28 13:55:24.1270</td>\n",
       "      <td>70.0</td>\n",
       "      <td>Central Ave at Fell St</td>\n",
       "      <td>71.0</td>\n",
       "      <td>Broderick St at Oak St</td>\n",
       "      <td>5801</td>\n",
       "      <td>Subscriber</td>\n",
       "      <td>1931.0</td>\n",
       "      <td>Male</td>\n",
       "      <td>No</td>\n",
       "      <td>88</td>\n",
       "    </tr>\n",
       "  </tbody>\n",
       "</table>\n",
       "<p>79 rows × 16 columns</p>\n",
       "</div>"
      ],
      "text/plain": [
       "        duration_sec  duration_minutes  duration_hours  duration_days  \\\n",
       "27370           1474         24.566667        0.409444       0.017060   \n",
       "1285             148          2.466667        0.041111       0.001713   \n",
       "10827           1315         21.916667        0.365278       0.015220   \n",
       "16087           1131         18.850000        0.314167       0.013090   \n",
       "19375            641         10.683333        0.178056       0.007419   \n",
       "...              ...               ...             ...            ...   \n",
       "43259            676         11.266667        0.187778       0.007824   \n",
       "183388           490          8.166667        0.136111       0.005671   \n",
       "35746            568          9.466667        0.157778       0.006574   \n",
       "92647            829         13.816667        0.230278       0.009595   \n",
       "5197             217          3.616667        0.060278       0.002512   \n",
       "\n",
       "                      start_time                  end_time start_station_id  \\\n",
       "27370   2019-02-25 09:28:42.1610  2019-02-25 09:53:17.0680             15.0   \n",
       "1285    2019-02-28 19:29:17.6270  2019-02-28 19:31:45.9670            158.0   \n",
       "10827   2019-02-27 19:21:34.4360  2019-02-27 19:43:30.0080            343.0   \n",
       "16087   2019-02-27 08:37:36.8640  2019-02-27 08:56:28.0220            375.0   \n",
       "19375   2019-02-26 17:03:19.8550  2019-02-26 17:14:01.6190              9.0   \n",
       "...                          ...                       ...              ...   \n",
       "43259   2019-02-22 16:44:42.7780  2019-02-22 16:55:59.3870             21.0   \n",
       "183388  2019-02-01 00:39:53.1120  2019-02-01 00:48:03.3380             61.0   \n",
       "35746   2019-02-23 17:46:46.1630  2019-02-23 17:56:14.9750             85.0   \n",
       "92647   2019-02-15 18:29:33.1320  2019-02-15 18:43:22.5250             90.0   \n",
       "5197    2019-02-28 13:51:46.2380  2019-02-28 13:55:24.1270             70.0   \n",
       "\n",
       "                                       start_station_name end_station_id  \\\n",
       "27370   San Francisco Ferry Building (Harry Bridges Pl...          386.0   \n",
       "1285                        Shattuck Ave at Telegraph Ave          173.0   \n",
       "10827                                 Bryant St at 2nd St          375.0   \n",
       "16087                             Grove St at Masonic Ave           36.0   \n",
       "19375                              Broadway at Battery St           30.0   \n",
       "...                                                   ...            ...   \n",
       "43259    Montgomery St BART Station (Market St at 2nd St)           67.0   \n",
       "183388                                Howard St at 8th St           81.0   \n",
       "35746                             Church St at Duboce Ave          100.0   \n",
       "92647                               Townsend St at 7th St          109.0   \n",
       "5197                               Central Ave at Fell St           71.0   \n",
       "\n",
       "                                         end_station_name bike_id   user_type  \\\n",
       "27370                              24th St at Bartlett St    6436    Customer   \n",
       "1285                              Shattuck Ave at 55th St    5391  Subscriber   \n",
       "10827                             Grove St at Masonic Ave    6249  Subscriber   \n",
       "16087                                 Folsom St at 3rd St    4968  Subscriber   \n",
       "19375      San Francisco Caltrain (Townsend St at 4th St)    6164    Customer   \n",
       "...                                                   ...     ...         ...   \n",
       "43259   San Francisco Caltrain Station 2  (Townsend St...    5545  Subscriber   \n",
       "183388                                 Berry St at 4th St    5411  Subscriber   \n",
       "35746                                Bryant St at 15th St    6294    Customer   \n",
       "92647                              17th St at Valencia St    3594    Customer   \n",
       "5197                               Broderick St at Oak St    5801  Subscriber   \n",
       "\n",
       "        member_birth_year member_gender bike_share_for_all_trip  age  \n",
       "27370              1878.0        Female                      No  141  \n",
       "1285               1900.0          Male                     Yes  119  \n",
       "10827              1900.0          Male                      No  119  \n",
       "16087              1900.0          Male                      No  119  \n",
       "19375              1900.0          Male                      No  119  \n",
       "...                   ...           ...                     ...  ...  \n",
       "43259              1920.0          Male                      No   99  \n",
       "183388             1927.0          Male                      No   92  \n",
       "35746              1928.0         Other                      No   91  \n",
       "92647              1930.0         Other                      No   89  \n",
       "5197               1931.0          Male                      No   88  \n",
       "\n",
       "[79 rows x 16 columns]"
      ]
     },
     "execution_count": 86,
     "metadata": {},
     "output_type": "execute_result"
    }
   ],
   "source": [
    "#Check 10 largest figures in age\n",
    "clean_go.nlargest(79, ['age'])"
   ]
  },
  {
   "cell_type": "code",
   "execution_count": 98,
   "metadata": {},
   "outputs": [
    {
     "data": {
      "text/html": [
       "<div>\n",
       "<style scoped>\n",
       "    .dataframe tbody tr th:only-of-type {\n",
       "        vertical-align: middle;\n",
       "    }\n",
       "\n",
       "    .dataframe tbody tr th {\n",
       "        vertical-align: top;\n",
       "    }\n",
       "\n",
       "    .dataframe thead th {\n",
       "        text-align: right;\n",
       "    }\n",
       "</style>\n",
       "<table border=\"1\" class=\"dataframe\">\n",
       "  <thead>\n",
       "    <tr style=\"text-align: right;\">\n",
       "      <th></th>\n",
       "      <th>duration_sec</th>\n",
       "      <th>duration_minutes</th>\n",
       "      <th>duration_hours</th>\n",
       "      <th>duration_days</th>\n",
       "      <th>start_time</th>\n",
       "      <th>end_time</th>\n",
       "      <th>start_station_id</th>\n",
       "      <th>start_station_name</th>\n",
       "      <th>end_station_id</th>\n",
       "      <th>end_station_name</th>\n",
       "      <th>bike_id</th>\n",
       "      <th>user_type</th>\n",
       "      <th>member_birth_year</th>\n",
       "      <th>member_gender</th>\n",
       "      <th>bike_share_for_all_trip</th>\n",
       "      <th>age</th>\n",
       "    </tr>\n",
       "  </thead>\n",
       "  <tbody>\n",
       "    <tr>\n",
       "      <th>0</th>\n",
       "      <td>52185</td>\n",
       "      <td>869.750000</td>\n",
       "      <td>14.495833</td>\n",
       "      <td>0.603993</td>\n",
       "      <td>2019-02-28 17:32:10.1450</td>\n",
       "      <td>2019-03-01 08:01:55.9750</td>\n",
       "      <td>21.0</td>\n",
       "      <td>Montgomery St BART Station (Market St at 2nd St)</td>\n",
       "      <td>13.0</td>\n",
       "      <td>Commercial St at Montgomery St</td>\n",
       "      <td>4902</td>\n",
       "      <td>Customer</td>\n",
       "      <td>1984.0</td>\n",
       "      <td>Male</td>\n",
       "      <td>No</td>\n",
       "      <td>35</td>\n",
       "    </tr>\n",
       "    <tr>\n",
       "      <th>1</th>\n",
       "      <td>42521</td>\n",
       "      <td>708.683333</td>\n",
       "      <td>11.811389</td>\n",
       "      <td>0.492141</td>\n",
       "      <td>2019-02-28 18:53:21.7890</td>\n",
       "      <td>2019-03-01 06:42:03.0560</td>\n",
       "      <td>23.0</td>\n",
       "      <td>The Embarcadero at Steuart St</td>\n",
       "      <td>81.0</td>\n",
       "      <td>Berry St at 4th St</td>\n",
       "      <td>2535</td>\n",
       "      <td>Customer</td>\n",
       "      <td>1988.0</td>\n",
       "      <td>Female</td>\n",
       "      <td>No</td>\n",
       "      <td>31</td>\n",
       "    </tr>\n",
       "    <tr>\n",
       "      <th>2</th>\n",
       "      <td>61854</td>\n",
       "      <td>1030.900000</td>\n",
       "      <td>17.181667</td>\n",
       "      <td>0.715903</td>\n",
       "      <td>2019-02-28 12:13:13.2180</td>\n",
       "      <td>2019-03-01 05:24:08.1460</td>\n",
       "      <td>86.0</td>\n",
       "      <td>Market St at Dolores St</td>\n",
       "      <td>3.0</td>\n",
       "      <td>Powell St BART Station (Market St at 4th St)</td>\n",
       "      <td>5905</td>\n",
       "      <td>Customer</td>\n",
       "      <td>1972.0</td>\n",
       "      <td>Male</td>\n",
       "      <td>No</td>\n",
       "      <td>47</td>\n",
       "    </tr>\n",
       "    <tr>\n",
       "      <th>3</th>\n",
       "      <td>36490</td>\n",
       "      <td>608.166667</td>\n",
       "      <td>10.136111</td>\n",
       "      <td>0.422338</td>\n",
       "      <td>2019-02-28 17:54:26.0100</td>\n",
       "      <td>2019-03-01 04:02:36.8420</td>\n",
       "      <td>375.0</td>\n",
       "      <td>Grove St at Masonic Ave</td>\n",
       "      <td>70.0</td>\n",
       "      <td>Central Ave at Fell St</td>\n",
       "      <td>6638</td>\n",
       "      <td>Subscriber</td>\n",
       "      <td>1989.0</td>\n",
       "      <td>Other</td>\n",
       "      <td>No</td>\n",
       "      <td>30</td>\n",
       "    </tr>\n",
       "    <tr>\n",
       "      <th>4</th>\n",
       "      <td>1585</td>\n",
       "      <td>26.416667</td>\n",
       "      <td>0.440278</td>\n",
       "      <td>0.018345</td>\n",
       "      <td>2019-02-28 23:54:18.5490</td>\n",
       "      <td>2019-03-01 00:20:44.0740</td>\n",
       "      <td>7.0</td>\n",
       "      <td>Frank H Ogawa Plaza</td>\n",
       "      <td>222.0</td>\n",
       "      <td>10th Ave at E 15th St</td>\n",
       "      <td>4898</td>\n",
       "      <td>Subscriber</td>\n",
       "      <td>1974.0</td>\n",
       "      <td>Male</td>\n",
       "      <td>Yes</td>\n",
       "      <td>45</td>\n",
       "    </tr>\n",
       "  </tbody>\n",
       "</table>\n",
       "</div>"
      ],
      "text/plain": [
       "   duration_sec  duration_minutes  duration_hours  duration_days  \\\n",
       "0         52185        869.750000       14.495833       0.603993   \n",
       "1         42521        708.683333       11.811389       0.492141   \n",
       "2         61854       1030.900000       17.181667       0.715903   \n",
       "3         36490        608.166667       10.136111       0.422338   \n",
       "4          1585         26.416667        0.440278       0.018345   \n",
       "\n",
       "                 start_time                  end_time start_station_id  \\\n",
       "0  2019-02-28 17:32:10.1450  2019-03-01 08:01:55.9750             21.0   \n",
       "1  2019-02-28 18:53:21.7890  2019-03-01 06:42:03.0560             23.0   \n",
       "2  2019-02-28 12:13:13.2180  2019-03-01 05:24:08.1460             86.0   \n",
       "3  2019-02-28 17:54:26.0100  2019-03-01 04:02:36.8420            375.0   \n",
       "4  2019-02-28 23:54:18.5490  2019-03-01 00:20:44.0740              7.0   \n",
       "\n",
       "                                 start_station_name end_station_id  \\\n",
       "0  Montgomery St BART Station (Market St at 2nd St)           13.0   \n",
       "1                     The Embarcadero at Steuart St           81.0   \n",
       "2                           Market St at Dolores St            3.0   \n",
       "3                           Grove St at Masonic Ave           70.0   \n",
       "4                               Frank H Ogawa Plaza          222.0   \n",
       "\n",
       "                               end_station_name bike_id   user_type  \\\n",
       "0                Commercial St at Montgomery St    4902    Customer   \n",
       "1                            Berry St at 4th St    2535    Customer   \n",
       "2  Powell St BART Station (Market St at 4th St)    5905    Customer   \n",
       "3                        Central Ave at Fell St    6638  Subscriber   \n",
       "4                         10th Ave at E 15th St    4898  Subscriber   \n",
       "\n",
       "   member_birth_year member_gender bike_share_for_all_trip  age  \n",
       "0             1984.0          Male                      No   35  \n",
       "1             1988.0        Female                      No   31  \n",
       "2             1972.0          Male                      No   47  \n",
       "3             1989.0         Other                      No   30  \n",
       "4             1974.0          Male                     Yes   45  "
      ]
     },
     "execution_count": 98,
     "metadata": {},
     "output_type": "execute_result"
    }
   ],
   "source": [
    "clean_go.drop(clean_go[clean_go['age']>90].index, inplace=True)\n",
    "clean_go.head()"
   ]
  },
  {
   "cell_type": "code",
   "execution_count": 99,
   "metadata": {},
   "outputs": [
    {
     "data": {
      "text/html": [
       "<div>\n",
       "<style scoped>\n",
       "    .dataframe tbody tr th:only-of-type {\n",
       "        vertical-align: middle;\n",
       "    }\n",
       "\n",
       "    .dataframe tbody tr th {\n",
       "        vertical-align: top;\n",
       "    }\n",
       "\n",
       "    .dataframe thead th {\n",
       "        text-align: right;\n",
       "    }\n",
       "</style>\n",
       "<table border=\"1\" class=\"dataframe\">\n",
       "  <thead>\n",
       "    <tr style=\"text-align: right;\">\n",
       "      <th></th>\n",
       "      <th>duration_sec</th>\n",
       "      <th>duration_minutes</th>\n",
       "      <th>duration_hours</th>\n",
       "      <th>duration_days</th>\n",
       "      <th>start_time</th>\n",
       "      <th>end_time</th>\n",
       "      <th>start_station_id</th>\n",
       "      <th>start_station_name</th>\n",
       "      <th>end_station_id</th>\n",
       "      <th>end_station_name</th>\n",
       "      <th>bike_id</th>\n",
       "      <th>user_type</th>\n",
       "      <th>member_birth_year</th>\n",
       "      <th>member_gender</th>\n",
       "      <th>bike_share_for_all_trip</th>\n",
       "      <th>age</th>\n",
       "    </tr>\n",
       "  </thead>\n",
       "  <tbody>\n",
       "    <tr>\n",
       "      <th>92647</th>\n",
       "      <td>829</td>\n",
       "      <td>13.816667</td>\n",
       "      <td>0.230278</td>\n",
       "      <td>0.009595</td>\n",
       "      <td>2019-02-15 18:29:33.1320</td>\n",
       "      <td>2019-02-15 18:43:22.5250</td>\n",
       "      <td>90.0</td>\n",
       "      <td>Townsend St at 7th St</td>\n",
       "      <td>109.0</td>\n",
       "      <td>17th St at Valencia St</td>\n",
       "      <td>3594</td>\n",
       "      <td>Customer</td>\n",
       "      <td>1930.0</td>\n",
       "      <td>Other</td>\n",
       "      <td>No</td>\n",
       "      <td>89</td>\n",
       "    </tr>\n",
       "    <tr>\n",
       "      <th>5197</th>\n",
       "      <td>217</td>\n",
       "      <td>3.616667</td>\n",
       "      <td>0.060278</td>\n",
       "      <td>0.002512</td>\n",
       "      <td>2019-02-28 13:51:46.2380</td>\n",
       "      <td>2019-02-28 13:55:24.1270</td>\n",
       "      <td>70.0</td>\n",
       "      <td>Central Ave at Fell St</td>\n",
       "      <td>71.0</td>\n",
       "      <td>Broderick St at Oak St</td>\n",
       "      <td>5801</td>\n",
       "      <td>Subscriber</td>\n",
       "      <td>1931.0</td>\n",
       "      <td>Male</td>\n",
       "      <td>No</td>\n",
       "      <td>88</td>\n",
       "    </tr>\n",
       "    <tr>\n",
       "      <th>5266</th>\n",
       "      <td>384</td>\n",
       "      <td>6.400000</td>\n",
       "      <td>0.106667</td>\n",
       "      <td>0.004444</td>\n",
       "      <td>2019-02-28 13:35:05.4280</td>\n",
       "      <td>2019-02-28 13:41:30.2230</td>\n",
       "      <td>84.0</td>\n",
       "      <td>Duboce Park</td>\n",
       "      <td>71.0</td>\n",
       "      <td>Broderick St at Oak St</td>\n",
       "      <td>6608</td>\n",
       "      <td>Subscriber</td>\n",
       "      <td>1931.0</td>\n",
       "      <td>Male</td>\n",
       "      <td>No</td>\n",
       "      <td>88</td>\n",
       "    </tr>\n",
       "    <tr>\n",
       "      <th>5447</th>\n",
       "      <td>147</td>\n",
       "      <td>2.450000</td>\n",
       "      <td>0.040833</td>\n",
       "      <td>0.001701</td>\n",
       "      <td>2019-02-28 13:08:56.9350</td>\n",
       "      <td>2019-02-28 13:11:24.0620</td>\n",
       "      <td>84.0</td>\n",
       "      <td>Duboce Park</td>\n",
       "      <td>72.0</td>\n",
       "      <td>Page St at Scott St</td>\n",
       "      <td>5018</td>\n",
       "      <td>Subscriber</td>\n",
       "      <td>1931.0</td>\n",
       "      <td>Male</td>\n",
       "      <td>No</td>\n",
       "      <td>88</td>\n",
       "    </tr>\n",
       "    <tr>\n",
       "      <th>26488</th>\n",
       "      <td>334</td>\n",
       "      <td>5.566667</td>\n",
       "      <td>0.092778</td>\n",
       "      <td>0.003866</td>\n",
       "      <td>2019-02-25 12:13:25.3300</td>\n",
       "      <td>2019-02-25 12:18:59.4340</td>\n",
       "      <td>71.0</td>\n",
       "      <td>Broderick St at Oak St</td>\n",
       "      <td>84.0</td>\n",
       "      <td>Duboce Park</td>\n",
       "      <td>3361</td>\n",
       "      <td>Subscriber</td>\n",
       "      <td>1931.0</td>\n",
       "      <td>Male</td>\n",
       "      <td>No</td>\n",
       "      <td>88</td>\n",
       "    </tr>\n",
       "    <tr>\n",
       "      <th>26535</th>\n",
       "      <td>119</td>\n",
       "      <td>1.983333</td>\n",
       "      <td>0.033056</td>\n",
       "      <td>0.001377</td>\n",
       "      <td>2019-02-25 12:08:38.3110</td>\n",
       "      <td>2019-02-25 12:10:37.6600</td>\n",
       "      <td>71.0</td>\n",
       "      <td>Broderick St at Oak St</td>\n",
       "      <td>53.0</td>\n",
       "      <td>Grove St at Divisadero</td>\n",
       "      <td>6475</td>\n",
       "      <td>Subscriber</td>\n",
       "      <td>1931.0</td>\n",
       "      <td>Male</td>\n",
       "      <td>No</td>\n",
       "      <td>88</td>\n",
       "    </tr>\n",
       "    <tr>\n",
       "      <th>26568</th>\n",
       "      <td>135</td>\n",
       "      <td>2.250000</td>\n",
       "      <td>0.037500</td>\n",
       "      <td>0.001562</td>\n",
       "      <td>2019-02-25 12:02:18.3600</td>\n",
       "      <td>2019-02-25 12:04:34.2720</td>\n",
       "      <td>71.0</td>\n",
       "      <td>Broderick St at Oak St</td>\n",
       "      <td>53.0</td>\n",
       "      <td>Grove St at Divisadero</td>\n",
       "      <td>6257</td>\n",
       "      <td>Subscriber</td>\n",
       "      <td>1931.0</td>\n",
       "      <td>Male</td>\n",
       "      <td>No</td>\n",
       "      <td>88</td>\n",
       "    </tr>\n",
       "    <tr>\n",
       "      <th>26604</th>\n",
       "      <td>294</td>\n",
       "      <td>4.900000</td>\n",
       "      <td>0.081667</td>\n",
       "      <td>0.003403</td>\n",
       "      <td>2019-02-25 11:52:12.5370</td>\n",
       "      <td>2019-02-25 11:57:06.9850</td>\n",
       "      <td>85.0</td>\n",
       "      <td>Church St at Duboce Ave</td>\n",
       "      <td>53.0</td>\n",
       "      <td>Grove St at Divisadero</td>\n",
       "      <td>5814</td>\n",
       "      <td>Subscriber</td>\n",
       "      <td>1931.0</td>\n",
       "      <td>Male</td>\n",
       "      <td>No</td>\n",
       "      <td>88</td>\n",
       "    </tr>\n",
       "    <tr>\n",
       "      <th>26641</th>\n",
       "      <td>78</td>\n",
       "      <td>1.300000</td>\n",
       "      <td>0.021667</td>\n",
       "      <td>0.000903</td>\n",
       "      <td>2019-02-25 11:50:14.7770</td>\n",
       "      <td>2019-02-25 11:51:33.5550</td>\n",
       "      <td>85.0</td>\n",
       "      <td>Church St at Duboce Ave</td>\n",
       "      <td>85.0</td>\n",
       "      <td>Church St at Duboce Ave</td>\n",
       "      <td>4361</td>\n",
       "      <td>Subscriber</td>\n",
       "      <td>1931.0</td>\n",
       "      <td>Male</td>\n",
       "      <td>No</td>\n",
       "      <td>88</td>\n",
       "    </tr>\n",
       "    <tr>\n",
       "      <th>26685</th>\n",
       "      <td>110</td>\n",
       "      <td>1.833333</td>\n",
       "      <td>0.030556</td>\n",
       "      <td>0.001273</td>\n",
       "      <td>2019-02-25 11:40:27.3480</td>\n",
       "      <td>2019-02-25 11:42:17.7820</td>\n",
       "      <td>85.0</td>\n",
       "      <td>Church St at Duboce Ave</td>\n",
       "      <td>73.0</td>\n",
       "      <td>Pierce St at Haight St</td>\n",
       "      <td>6208</td>\n",
       "      <td>Subscriber</td>\n",
       "      <td>1931.0</td>\n",
       "      <td>Male</td>\n",
       "      <td>No</td>\n",
       "      <td>88</td>\n",
       "    </tr>\n",
       "  </tbody>\n",
       "</table>\n",
       "</div>"
      ],
      "text/plain": [
       "       duration_sec  duration_minutes  duration_hours  duration_days  \\\n",
       "92647           829         13.816667        0.230278       0.009595   \n",
       "5197            217          3.616667        0.060278       0.002512   \n",
       "5266            384          6.400000        0.106667       0.004444   \n",
       "5447            147          2.450000        0.040833       0.001701   \n",
       "26488           334          5.566667        0.092778       0.003866   \n",
       "26535           119          1.983333        0.033056       0.001377   \n",
       "26568           135          2.250000        0.037500       0.001562   \n",
       "26604           294          4.900000        0.081667       0.003403   \n",
       "26641            78          1.300000        0.021667       0.000903   \n",
       "26685           110          1.833333        0.030556       0.001273   \n",
       "\n",
       "                     start_time                  end_time start_station_id  \\\n",
       "92647  2019-02-15 18:29:33.1320  2019-02-15 18:43:22.5250             90.0   \n",
       "5197   2019-02-28 13:51:46.2380  2019-02-28 13:55:24.1270             70.0   \n",
       "5266   2019-02-28 13:35:05.4280  2019-02-28 13:41:30.2230             84.0   \n",
       "5447   2019-02-28 13:08:56.9350  2019-02-28 13:11:24.0620             84.0   \n",
       "26488  2019-02-25 12:13:25.3300  2019-02-25 12:18:59.4340             71.0   \n",
       "26535  2019-02-25 12:08:38.3110  2019-02-25 12:10:37.6600             71.0   \n",
       "26568  2019-02-25 12:02:18.3600  2019-02-25 12:04:34.2720             71.0   \n",
       "26604  2019-02-25 11:52:12.5370  2019-02-25 11:57:06.9850             85.0   \n",
       "26641  2019-02-25 11:50:14.7770  2019-02-25 11:51:33.5550             85.0   \n",
       "26685  2019-02-25 11:40:27.3480  2019-02-25 11:42:17.7820             85.0   \n",
       "\n",
       "            start_station_name end_station_id         end_station_name  \\\n",
       "92647    Townsend St at 7th St          109.0   17th St at Valencia St   \n",
       "5197    Central Ave at Fell St           71.0   Broderick St at Oak St   \n",
       "5266               Duboce Park           71.0   Broderick St at Oak St   \n",
       "5447               Duboce Park           72.0      Page St at Scott St   \n",
       "26488   Broderick St at Oak St           84.0              Duboce Park   \n",
       "26535   Broderick St at Oak St           53.0   Grove St at Divisadero   \n",
       "26568   Broderick St at Oak St           53.0   Grove St at Divisadero   \n",
       "26604  Church St at Duboce Ave           53.0   Grove St at Divisadero   \n",
       "26641  Church St at Duboce Ave           85.0  Church St at Duboce Ave   \n",
       "26685  Church St at Duboce Ave           73.0   Pierce St at Haight St   \n",
       "\n",
       "      bike_id   user_type  member_birth_year member_gender  \\\n",
       "92647    3594    Customer             1930.0         Other   \n",
       "5197     5801  Subscriber             1931.0          Male   \n",
       "5266     6608  Subscriber             1931.0          Male   \n",
       "5447     5018  Subscriber             1931.0          Male   \n",
       "26488    3361  Subscriber             1931.0          Male   \n",
       "26535    6475  Subscriber             1931.0          Male   \n",
       "26568    6257  Subscriber             1931.0          Male   \n",
       "26604    5814  Subscriber             1931.0          Male   \n",
       "26641    4361  Subscriber             1931.0          Male   \n",
       "26685    6208  Subscriber             1931.0          Male   \n",
       "\n",
       "      bike_share_for_all_trip  age  \n",
       "92647                      No   89  \n",
       "5197                       No   88  \n",
       "5266                       No   88  \n",
       "5447                       No   88  \n",
       "26488                      No   88  \n",
       "26535                      No   88  \n",
       "26568                      No   88  \n",
       "26604                      No   88  \n",
       "26641                      No   88  \n",
       "26685                      No   88  "
      ]
     },
     "execution_count": 99,
     "metadata": {},
     "output_type": "execute_result"
    }
   ],
   "source": [
    "#Check for outliers\n",
    "clean_go.nlargest(10, ['age'])"
   ]
  },
  {
   "cell_type": "markdown",
   "metadata": {},
   "source": [
    "<a id='storing'></a>\n",
    "# Storing Data\n",
    "\n",
    "In this section, we will be saving the edited dataframe as a csv file"
   ]
  },
  {
   "cell_type": "code",
   "execution_count": 100,
   "metadata": {},
   "outputs": [],
   "source": [
    "clean_go.to_csv('clean_ford_data.csv', index=False)\n"
   ]
  },
  {
   "cell_type": "markdown",
   "metadata": {},
   "source": [
    "### What is the structure of your dataset?\n",
    "\n",
    "The datatset contains 183,412 entries and 16 variables. Datatypes available in this dataset are Int64, float64 and Object\n",
    "\n",
    "### What is/are the main feature(s) of interest in your dataset?\n",
    "\n",
    "The main features for investigation in this dataset are member Gender, member birth year, duration in hours, minutes and days\n",
    "\n",
    "### What features in the dataset do you think will help support your investigation into your feature(s) of interest?\n",
    "\n",
    "member_gender \n",
    "member_birth_year \n",
    "duration_days \n",
    "user_type\n",
    "bike_share_for_all_trip"
   ]
  },
  {
   "cell_type": "markdown",
   "metadata": {},
   "source": [
    "<a id='analysis'></a>\n",
    "# Data Analysis and Visualization\n",
    "In this section, we will be performing data analysis and vizualization on the final data frame that was cleaned in the above steps\n",
    "\n",
    "## 1. Exploratory Data Analysis\n",
    "\n",
    "### A. Univariate Exploration"
   ]
  },
  {
   "cell_type": "code",
   "execution_count": 101,
   "metadata": {},
   "outputs": [
    {
     "data": {
      "text/html": [
       "<div>\n",
       "<style scoped>\n",
       "    .dataframe tbody tr th:only-of-type {\n",
       "        vertical-align: middle;\n",
       "    }\n",
       "\n",
       "    .dataframe tbody tr th {\n",
       "        vertical-align: top;\n",
       "    }\n",
       "\n",
       "    .dataframe thead th {\n",
       "        text-align: right;\n",
       "    }\n",
       "</style>\n",
       "<table border=\"1\" class=\"dataframe\">\n",
       "  <thead>\n",
       "    <tr style=\"text-align: right;\">\n",
       "      <th></th>\n",
       "      <th>duration_sec</th>\n",
       "      <th>duration_minutes</th>\n",
       "      <th>duration_hours</th>\n",
       "      <th>duration_days</th>\n",
       "      <th>start_time</th>\n",
       "      <th>end_time</th>\n",
       "      <th>start_station_id</th>\n",
       "      <th>start_station_name</th>\n",
       "      <th>end_station_id</th>\n",
       "      <th>end_station_name</th>\n",
       "      <th>bike_id</th>\n",
       "      <th>user_type</th>\n",
       "      <th>member_birth_year</th>\n",
       "      <th>member_gender</th>\n",
       "      <th>bike_share_for_all_trip</th>\n",
       "      <th>age</th>\n",
       "    </tr>\n",
       "  </thead>\n",
       "  <tbody>\n",
       "    <tr>\n",
       "      <th>0</th>\n",
       "      <td>52185</td>\n",
       "      <td>869.750000</td>\n",
       "      <td>14.495833</td>\n",
       "      <td>0.603993</td>\n",
       "      <td>2019-02-28 17:32:10.1450</td>\n",
       "      <td>2019-03-01 08:01:55.9750</td>\n",
       "      <td>21.0</td>\n",
       "      <td>Montgomery St BART Station (Market St at 2nd St)</td>\n",
       "      <td>13.0</td>\n",
       "      <td>Commercial St at Montgomery St</td>\n",
       "      <td>4902</td>\n",
       "      <td>Customer</td>\n",
       "      <td>1984.0</td>\n",
       "      <td>Male</td>\n",
       "      <td>No</td>\n",
       "      <td>35</td>\n",
       "    </tr>\n",
       "    <tr>\n",
       "      <th>1</th>\n",
       "      <td>42521</td>\n",
       "      <td>708.683333</td>\n",
       "      <td>11.811389</td>\n",
       "      <td>0.492141</td>\n",
       "      <td>2019-02-28 18:53:21.7890</td>\n",
       "      <td>2019-03-01 06:42:03.0560</td>\n",
       "      <td>23.0</td>\n",
       "      <td>The Embarcadero at Steuart St</td>\n",
       "      <td>81.0</td>\n",
       "      <td>Berry St at 4th St</td>\n",
       "      <td>2535</td>\n",
       "      <td>Customer</td>\n",
       "      <td>1988.0</td>\n",
       "      <td>Female</td>\n",
       "      <td>No</td>\n",
       "      <td>31</td>\n",
       "    </tr>\n",
       "    <tr>\n",
       "      <th>2</th>\n",
       "      <td>61854</td>\n",
       "      <td>1030.900000</td>\n",
       "      <td>17.181667</td>\n",
       "      <td>0.715903</td>\n",
       "      <td>2019-02-28 12:13:13.2180</td>\n",
       "      <td>2019-03-01 05:24:08.1460</td>\n",
       "      <td>86.0</td>\n",
       "      <td>Market St at Dolores St</td>\n",
       "      <td>3.0</td>\n",
       "      <td>Powell St BART Station (Market St at 4th St)</td>\n",
       "      <td>5905</td>\n",
       "      <td>Customer</td>\n",
       "      <td>1972.0</td>\n",
       "      <td>Male</td>\n",
       "      <td>No</td>\n",
       "      <td>47</td>\n",
       "    </tr>\n",
       "    <tr>\n",
       "      <th>3</th>\n",
       "      <td>36490</td>\n",
       "      <td>608.166667</td>\n",
       "      <td>10.136111</td>\n",
       "      <td>0.422338</td>\n",
       "      <td>2019-02-28 17:54:26.0100</td>\n",
       "      <td>2019-03-01 04:02:36.8420</td>\n",
       "      <td>375.0</td>\n",
       "      <td>Grove St at Masonic Ave</td>\n",
       "      <td>70.0</td>\n",
       "      <td>Central Ave at Fell St</td>\n",
       "      <td>6638</td>\n",
       "      <td>Subscriber</td>\n",
       "      <td>1989.0</td>\n",
       "      <td>Other</td>\n",
       "      <td>No</td>\n",
       "      <td>30</td>\n",
       "    </tr>\n",
       "    <tr>\n",
       "      <th>4</th>\n",
       "      <td>1585</td>\n",
       "      <td>26.416667</td>\n",
       "      <td>0.440278</td>\n",
       "      <td>0.018345</td>\n",
       "      <td>2019-02-28 23:54:18.5490</td>\n",
       "      <td>2019-03-01 00:20:44.0740</td>\n",
       "      <td>7.0</td>\n",
       "      <td>Frank H Ogawa Plaza</td>\n",
       "      <td>222.0</td>\n",
       "      <td>10th Ave at E 15th St</td>\n",
       "      <td>4898</td>\n",
       "      <td>Subscriber</td>\n",
       "      <td>1974.0</td>\n",
       "      <td>Male</td>\n",
       "      <td>Yes</td>\n",
       "      <td>45</td>\n",
       "    </tr>\n",
       "  </tbody>\n",
       "</table>\n",
       "</div>"
      ],
      "text/plain": [
       "   duration_sec  duration_minutes  duration_hours  duration_days  \\\n",
       "0         52185        869.750000       14.495833       0.603993   \n",
       "1         42521        708.683333       11.811389       0.492141   \n",
       "2         61854       1030.900000       17.181667       0.715903   \n",
       "3         36490        608.166667       10.136111       0.422338   \n",
       "4          1585         26.416667        0.440278       0.018345   \n",
       "\n",
       "                 start_time                  end_time  start_station_id  \\\n",
       "0  2019-02-28 17:32:10.1450  2019-03-01 08:01:55.9750              21.0   \n",
       "1  2019-02-28 18:53:21.7890  2019-03-01 06:42:03.0560              23.0   \n",
       "2  2019-02-28 12:13:13.2180  2019-03-01 05:24:08.1460              86.0   \n",
       "3  2019-02-28 17:54:26.0100  2019-03-01 04:02:36.8420             375.0   \n",
       "4  2019-02-28 23:54:18.5490  2019-03-01 00:20:44.0740               7.0   \n",
       "\n",
       "                                 start_station_name  end_station_id  \\\n",
       "0  Montgomery St BART Station (Market St at 2nd St)            13.0   \n",
       "1                     The Embarcadero at Steuart St            81.0   \n",
       "2                           Market St at Dolores St             3.0   \n",
       "3                           Grove St at Masonic Ave            70.0   \n",
       "4                               Frank H Ogawa Plaza           222.0   \n",
       "\n",
       "                               end_station_name  bike_id   user_type  \\\n",
       "0                Commercial St at Montgomery St     4902    Customer   \n",
       "1                            Berry St at 4th St     2535    Customer   \n",
       "2  Powell St BART Station (Market St at 4th St)     5905    Customer   \n",
       "3                        Central Ave at Fell St     6638  Subscriber   \n",
       "4                         10th Ave at E 15th St     4898  Subscriber   \n",
       "\n",
       "   member_birth_year member_gender bike_share_for_all_trip  age  \n",
       "0             1984.0          Male                      No   35  \n",
       "1             1988.0        Female                      No   31  \n",
       "2             1972.0          Male                      No   47  \n",
       "3             1989.0         Other                      No   30  \n",
       "4             1974.0          Male                     Yes   45  "
      ]
     },
     "execution_count": 101,
     "metadata": {},
     "output_type": "execute_result"
    }
   ],
   "source": [
    "#Import the cleaned and stored csv file\n",
    "df_go= pd.read_csv('clean_ford_data.csv')\n",
    "df_go.head()"
   ]
  },
  {
   "cell_type": "code",
   "execution_count": 102,
   "metadata": {},
   "outputs": [
    {
     "data": {
      "text/html": [
       "<div>\n",
       "<style scoped>\n",
       "    .dataframe tbody tr th:only-of-type {\n",
       "        vertical-align: middle;\n",
       "    }\n",
       "\n",
       "    .dataframe tbody tr th {\n",
       "        vertical-align: top;\n",
       "    }\n",
       "\n",
       "    .dataframe thead th {\n",
       "        text-align: right;\n",
       "    }\n",
       "</style>\n",
       "<table border=\"1\" class=\"dataframe\">\n",
       "  <thead>\n",
       "    <tr style=\"text-align: right;\">\n",
       "      <th></th>\n",
       "      <th>duration_sec</th>\n",
       "      <th>duration_minutes</th>\n",
       "      <th>duration_hours</th>\n",
       "      <th>duration_days</th>\n",
       "      <th>start_station_id</th>\n",
       "      <th>end_station_id</th>\n",
       "      <th>bike_id</th>\n",
       "      <th>member_birth_year</th>\n",
       "      <th>age</th>\n",
       "    </tr>\n",
       "  </thead>\n",
       "  <tbody>\n",
       "    <tr>\n",
       "      <th>count</th>\n",
       "      <td>183335.000000</td>\n",
       "      <td>183335.000000</td>\n",
       "      <td>183335.000000</td>\n",
       "      <td>183335.000000</td>\n",
       "      <td>183335.000000</td>\n",
       "      <td>183335.000000</td>\n",
       "      <td>183335.000000</td>\n",
       "      <td>183335.000000</td>\n",
       "      <td>183335.000000</td>\n",
       "    </tr>\n",
       "    <tr>\n",
       "      <th>mean</th>\n",
       "      <td>726.111806</td>\n",
       "      <td>12.101863</td>\n",
       "      <td>0.201698</td>\n",
       "      <td>0.008404</td>\n",
       "      <td>138.483639</td>\n",
       "      <td>136.174724</td>\n",
       "      <td>4472.836223</td>\n",
       "      <td>1984.985311</td>\n",
       "      <td>34.014689</td>\n",
       "    </tr>\n",
       "    <tr>\n",
       "      <th>std</th>\n",
       "      <td>1794.741340</td>\n",
       "      <td>29.912356</td>\n",
       "      <td>0.498539</td>\n",
       "      <td>0.020772</td>\n",
       "      <td>111.738867</td>\n",
       "      <td>111.476510</td>\n",
       "      <td>1664.406163</td>\n",
       "      <td>9.761477</td>\n",
       "      <td>9.761477</td>\n",
       "    </tr>\n",
       "    <tr>\n",
       "      <th>min</th>\n",
       "      <td>61.000000</td>\n",
       "      <td>1.016667</td>\n",
       "      <td>0.016944</td>\n",
       "      <td>0.000706</td>\n",
       "      <td>3.000000</td>\n",
       "      <td>3.000000</td>\n",
       "      <td>11.000000</td>\n",
       "      <td>1930.000000</td>\n",
       "      <td>18.000000</td>\n",
       "    </tr>\n",
       "    <tr>\n",
       "      <th>25%</th>\n",
       "      <td>325.000000</td>\n",
       "      <td>5.416667</td>\n",
       "      <td>0.090278</td>\n",
       "      <td>0.003762</td>\n",
       "      <td>47.000000</td>\n",
       "      <td>44.000000</td>\n",
       "      <td>3777.000000</td>\n",
       "      <td>1981.000000</td>\n",
       "      <td>27.000000</td>\n",
       "    </tr>\n",
       "    <tr>\n",
       "      <th>50%</th>\n",
       "      <td>514.000000</td>\n",
       "      <td>8.566667</td>\n",
       "      <td>0.142778</td>\n",
       "      <td>0.005949</td>\n",
       "      <td>104.000000</td>\n",
       "      <td>100.000000</td>\n",
       "      <td>4957.000000</td>\n",
       "      <td>1988.000000</td>\n",
       "      <td>31.000000</td>\n",
       "    </tr>\n",
       "    <tr>\n",
       "      <th>75%</th>\n",
       "      <td>796.000000</td>\n",
       "      <td>13.266667</td>\n",
       "      <td>0.221111</td>\n",
       "      <td>0.009213</td>\n",
       "      <td>239.000000</td>\n",
       "      <td>235.000000</td>\n",
       "      <td>5502.000000</td>\n",
       "      <td>1992.000000</td>\n",
       "      <td>38.000000</td>\n",
       "    </tr>\n",
       "    <tr>\n",
       "      <th>max</th>\n",
       "      <td>85444.000000</td>\n",
       "      <td>1424.066667</td>\n",
       "      <td>23.734444</td>\n",
       "      <td>0.988935</td>\n",
       "      <td>398.000000</td>\n",
       "      <td>398.000000</td>\n",
       "      <td>6645.000000</td>\n",
       "      <td>2001.000000</td>\n",
       "      <td>89.000000</td>\n",
       "    </tr>\n",
       "  </tbody>\n",
       "</table>\n",
       "</div>"
      ],
      "text/plain": [
       "        duration_sec  duration_minutes  duration_hours  duration_days  \\\n",
       "count  183335.000000     183335.000000   183335.000000  183335.000000   \n",
       "mean      726.111806         12.101863        0.201698       0.008404   \n",
       "std      1794.741340         29.912356        0.498539       0.020772   \n",
       "min        61.000000          1.016667        0.016944       0.000706   \n",
       "25%       325.000000          5.416667        0.090278       0.003762   \n",
       "50%       514.000000          8.566667        0.142778       0.005949   \n",
       "75%       796.000000         13.266667        0.221111       0.009213   \n",
       "max     85444.000000       1424.066667       23.734444       0.988935   \n",
       "\n",
       "       start_station_id  end_station_id        bike_id  member_birth_year  \\\n",
       "count     183335.000000   183335.000000  183335.000000      183335.000000   \n",
       "mean         138.483639      136.174724    4472.836223        1984.985311   \n",
       "std          111.738867      111.476510    1664.406163           9.761477   \n",
       "min            3.000000        3.000000      11.000000        1930.000000   \n",
       "25%           47.000000       44.000000    3777.000000        1981.000000   \n",
       "50%          104.000000      100.000000    4957.000000        1988.000000   \n",
       "75%          239.000000      235.000000    5502.000000        1992.000000   \n",
       "max          398.000000      398.000000    6645.000000        2001.000000   \n",
       "\n",
       "                 age  \n",
       "count  183335.000000  \n",
       "mean       34.014689  \n",
       "std         9.761477  \n",
       "min        18.000000  \n",
       "25%        27.000000  \n",
       "50%        31.000000  \n",
       "75%        38.000000  \n",
       "max        89.000000  "
      ]
     },
     "execution_count": 102,
     "metadata": {},
     "output_type": "execute_result"
    }
   ],
   "source": [
    "df_go.describe()"
   ]
  },
  {
   "cell_type": "markdown",
   "metadata": {},
   "source": [
    "### 1. What is the average duration of a bike ride in minutes from the data?"
   ]
  },
  {
   "cell_type": "code",
   "execution_count": 103,
   "metadata": {},
   "outputs": [
    {
     "data": {
      "image/png": "[encoded data removed]",
      "text/plain": [
       "<Figure size 864x576 with 1 Axes>"
      ]
     },
     "metadata": {
      "needs_background": "light"
     },
     "output_type": "display_data"
    }
   ],
   "source": [
    "#Duration of rides in minutes plot\n",
    "plt.figure(figsize=[12, 8])\n",
    "bin_edges=np.arange(0, 65, 1)\n",
    "ticks= [0, 5, 10, 15, 20, 25, 30, 35, 40, 45, 50, 55, 60, 65]\n",
    "label=['{}'.format(val) for val in ticks]\n",
    "plt.hist(data=df_go, x='duration_minutes', bins=bin_edges, rwidth=0.8)\n",
    "plt.title('Ride Duration in Minutes')\n",
    "plt.xlabel('Duration in Minutes')\n",
    "plt.ylabel('Number of Bike Trips')\n",
    "plt.xticks(ticks, label)\n",
    "plt.show()\n"
   ]
  },
  {
   "cell_type": "markdown",
   "metadata": {},
   "source": [
    "From the above plot, we can conclude that the average bike ride time is betweek 3 minutes and 15 minutes long"
   ]
  },
  {
   "cell_type": "markdown",
   "metadata": {},
   "source": [
    "### 2. Which user type is uses bike rides the most?"
   ]
  },
  {
   "cell_type": "code",
   "execution_count": 117,
   "metadata": {},
   "outputs": [
    {
     "data": {
      "image/png": "[encoded data removed]",
      "text/plain": [
       "<Figure size 864x576 with 1 Axes>"
      ]
     },
     "metadata": {
      "needs_background": "light"
     },
     "output_type": "display_data"
    }
   ],
   "source": [
    "#Distribution of user types from the data\n",
    "plt.figure(figsize=[12, 8])\n",
    "\n",
    "plot = sns.countplot(data=df_go, x='user_type')\n",
    "\n",
    "plt.title('Customer Respresentation According to Type')\n",
    "plt.xlabel('User Type Distribution')\n",
    "plt.ylabel('Frequency')\n",
    "\n",
    "plt.show()"
   ]
  },
  {
   "cell_type": "markdown",
   "metadata": {},
   "source": [
    "From the above CountPlot, we can see that that a large proportion of riders are subscribers while a lower number are classified as customers"
   ]
  },
  {
   "cell_type": "markdown",
   "metadata": {},
   "source": [
    "### 3. What is the User Age Distrubution"
   ]
  },
  {
   "cell_type": "code",
   "execution_count": 116,
   "metadata": {},
   "outputs": [
    {
     "data": {
      "image/png": "[encoded data removed]",
      "text/plain": [
       "<Figure size 864x576 with 1 Axes>"
      ]
     },
     "metadata": {
      "needs_background": "light"
     },
     "output_type": "display_data"
    }
   ],
   "source": [
    "#Distribution of user age from data\n",
    "plt.figure(figsize=[12, 8])\n",
    "ticks= [10, 20, 30, 40, 50, 60, 70, 80, 90]\n",
    "label=['{}'.format(val) for val in ticks]\n",
    "plt.hist(data=df_go, x='age', bins=30, rwidth=0.8)\n",
    "\n",
    "plt.title('Customer Respresentation According to age')\n",
    "plt.xlabel('User age Distribution')\n",
    "plt.ylabel('Frequency')\n",
    "\n",
    "plt.xticks(ticks, label)\n",
    "plt.show()"
   ]
  },
  {
   "cell_type": "markdown",
   "metadata": {},
   "source": [
    "From the distrubution we can see that the majority of users range between the ages of 23 and 40"
   ]
  },
  {
   "cell_type": "markdown",
   "metadata": {},
   "source": [
    "### 4. What is the User Gender Distrubution"
   ]
  },
  {
   "cell_type": "code",
   "execution_count": 119,
   "metadata": {},
   "outputs": [
    {
     "data": {
      "image/png": "[encoded data removed]",
      "text/plain": [
       "<Figure size 864x576 with 1 Axes>"
      ]
     },
     "metadata": {
      "needs_background": "light"
     },
     "output_type": "display_data"
    }
   ],
   "source": [
    "#Distribution of member genders\n",
    "plt.figure(figsize=[12, 8])\n",
    "\n",
    "plot = sns.countplot(data=df_go, x='member_gender')\n",
    "\n",
    "plt.title('Customer Respresentation Gender')\n",
    "plt.xlabel('User Type Distribution')\n",
    "plt.ylabel('Frequency')\n",
    "\n",
    "plt.show()"
   ]
  },
  {
   "cell_type": "markdown",
   "metadata": {},
   "source": [
    "From the above countplot, we can tell that the majority of users are male, while those who identify as other are the least"
   ]
  },
  {
   "cell_type": "markdown",
   "metadata": {},
   "source": [
    "### 5. What is the distribution of bike share users on all trips?"
   ]
  },
  {
   "cell_type": "code",
   "execution_count": 120,
   "metadata": {},
   "outputs": [
    {
     "data": {
      "image/png": "[encoded data removed]",
      "text/plain": [
       "<Figure size 864x576 with 1 Axes>"
      ]
     },
     "metadata": {
      "needs_background": "light"
     },
     "output_type": "display_data"
    }
   ],
   "source": [
    "#Distribution of member genders\n",
    "plt.figure(figsize=[12, 8])\n",
    "\n",
    "plot = sns.countplot(data=df_go, x='bike_share_for_all_trip')\n",
    "\n",
    "plt.title('User Distribution by Trip Program')\n",
    "plt.xlabel('User Type Distribution')\n",
    "plt.ylabel('Frequency')\n",
    "\n",
    "plt.show()"
   ]
  },
  {
   "cell_type": "markdown",
   "metadata": {},
   "source": [
    "From the above countplot, we can see that the vast majority of users are not part of the bike trip program"
   ]
  },
  {
   "cell_type": "markdown",
   "metadata": {},
   "source": [
    "### 6 What is the distribution of user ride duration in hours"
   ]
  },
  {
   "cell_type": "code",
   "execution_count": 132,
   "metadata": {},
   "outputs": [
    {
     "data": {
      "image/png": "[encoded data removed]",
      "text/plain": [
       "<Figure size 864x576 with 1 Axes>"
      ]
     },
     "metadata": {
      "needs_background": "light"
     },
     "output_type": "display_data"
    }
   ],
   "source": [
    "#Duration of rides in hours plot\n",
    "plt.figure(figsize=[12, 8])\n",
    "bin_size=[0, 0.15, 0.30, 0.45, 0.60, 0.75, 0.90, 1]\n",
    "plt.hist(data=df_go, x='duration_hours', bins=bin_size)\n",
    "\n",
    "plt.title('Ride Duration in Hours')\n",
    "plt.xlabel('Duration in Hours')\n",
    "plt.ylabel('Number of Bike Trips')\n",
    "plt.xticks(ticks, label)\n",
    "plt.show()"
   ]
  },
  {
   "cell_type": "markdown",
   "metadata": {},
   "source": [
    "From the plotted distribution, we can see that the majority of users take less than an hour long bike ride"
   ]
  },
  {
   "cell_type": "markdown",
   "metadata": {},
   "source": [
    "### 7 Are there any outliers in the age of riders?"
   ]
  },
  {
   "cell_type": "code",
   "execution_count": 136,
   "metadata": {},
   "outputs": [
    {
     "data": {
      "text/plain": [
       "Text(0.5, 1.0, 'Distribution of users by age ')"
      ]
     },
     "execution_count": 136,
     "metadata": {},
     "output_type": "execute_result"
    },
    {
     "data": {
      "image/png": "[encoded data removed]",
      "text/plain": [
       "<Figure size 864x576 with 1 Axes>"
      ]
     },
     "metadata": {
      "needs_background": "light"
     },
     "output_type": "display_data"
    }
   ],
   "source": [
    "#Outlier distribution plot for ages\n",
    "plt.figure(figsize=[12, 8])\n",
    "plt.boxplot(df_go['age'])\n",
    "\n",
    "plt.xlabel('Age')\n",
    "plt.ylabel('Frequency')\n",
    "plt.title('Distribution of users by age ')"
   ]
  },
  {
   "cell_type": "markdown",
   "metadata": {},
   "source": [
    "From the plot, we can tell that there are no users above the age of 90. These ourliers were identified before hand and removed from the dataframe"
   ]
  },
  {
   "cell_type": "code",
   "execution_count": null,
   "metadata": {},
   "outputs": [],
   "source": []
  },
  {
   "cell_type": "markdown",
   "metadata": {},
   "source": [
    "### Discuss the distribution(s) of your variable(s) of interest. Were there any unusual points? Did you need to perform any transformations?\n",
    "\n",
    "From the main variables, it is clear that most rides were less than 30 minutes long\n",
    "The Age distribution is skewed to the left with most riders being between the ages of 23 and 40\n",
    "\n",
    "\n",
    "### Of the features you investigated, were there any unusual distributions? Did you perform any operations on the data to tidy, adjust, or change the form of the data? If so, why did you do this?\n",
    "\n",
    "Yes, there were ouliers in the age, which i dropped from the dataset\n",
    "\n",
    "\n"
   ]
  },
  {
   "cell_type": "markdown",
   "metadata": {},
   "source": [
    "### B. Bivariate Exploration"
   ]
  },
  {
   "cell_type": "markdown",
   "metadata": {},
   "source": [
    "### 8 What is the average of bike ride lengths in minutes relative to the user types?"
   ]
  },
  {
   "cell_type": "code",
   "execution_count": 135,
   "metadata": {},
   "outputs": [
    {
     "data": {
      "image/png": "[encoded data removed]",
      "text/plain": [
       "<Figure size 864x576 with 1 Axes>"
      ]
     },
     "metadata": {
      "needs_background": "light"
     },
     "output_type": "display_data"
    }
   ],
   "source": [
    "#Duration of rides in minutes plot\n",
    "plt.figure(figsize=[12, 8])\n",
    "sns.violinplot(data=df_go.query('duration_minutes <=60'), x='user_type', y='duration_minutes')\n",
    "\n",
    "plt.title('Duration of bike trip according to the Type of Users')\n",
    "plt.xlabel('User Type')\n",
    "plt.ylabel('Bike Ride Duration')\n",
    "\n",
    "plt.show()"
   ]
  },
  {
   "cell_type": "markdown",
   "metadata": {},
   "source": [
    "From the violin plot, we can tell that on average in rides that are less than 60 minutes long the customers and subscribers have a similar duration of rides"
   ]
  },
  {
   "cell_type": "markdown",
   "metadata": {},
   "source": [
    "### 9 What is the distribution of bike ride lengths in hours relative to the user types?"
   ]
  },
  {
   "cell_type": "code",
   "execution_count": 146,
   "metadata": {},
   "outputs": [
    {
     "data": {
      "image/png": "[encoded data removed]",
      "text/plain": [
       "<Figure size 864x576 with 1 Axes>"
      ]
     },
     "metadata": {
      "needs_background": "light"
     },
     "output_type": "display_data"
    }
   ],
   "source": [
    "#Duration of rides in minutes plot\n",
    "plt.figure(figsize=[12, 8])\n",
    "sns.boxplot(data=df_go.query('duration_hours <=1'), x='user_type', y='duration_hours')\n",
    "\n",
    "plt.title('Duration of bike trip in Hours according to the Type of Users')\n",
    "plt.xlabel('User Type')\n",
    "plt.ylabel('Bike Ride Duration')\n",
    "\n",
    "plt.show()"
   ]
  },
  {
   "cell_type": "markdown",
   "metadata": {},
   "source": [
    "From the above boxplot, we can see that on average riders took riders less than an our long but there were more customers taking rides"
   ]
  },
  {
   "cell_type": "markdown",
   "metadata": {},
   "source": [
    "### 10 What is the average of bike ride lengths in minutes relative to the user ages?"
   ]
  },
  {
   "cell_type": "code",
   "execution_count": 141,
   "metadata": {},
   "outputs": [
    {
     "data": {
      "image/png": "[encoded data removed]",
      "text/plain": [
       "<Figure size 864x576 with 1 Axes>"
      ]
     },
     "metadata": {
      "needs_background": "light"
     },
     "output_type": "display_data"
    }
   ],
   "source": [
    "plt.figure(figsize=[12, 8])\n",
    "sns.barplot(data=df_go, x= 'member_gender', y='duration_minutes')\n",
    "plt.title('Duration of bike trip in Hours according to the Type of Users')\n",
    "plt.xlabel('User Gender')\n",
    "plt.ylabel('Bike Ride Duration')\n",
    "plt.show()"
   ]
  },
  {
   "cell_type": "markdown",
   "metadata": {},
   "source": [
    "From the boxplot, we can see that the Other group took longer rides than male or female, with the female gender averaging 14 minutes per ride and the male gender averaging 11 minutes."
   ]
  },
  {
   "cell_type": "markdown",
   "metadata": {},
   "source": [
    "### 11 What is the distribution of bike riders ages relative to their gender?"
   ]
  },
  {
   "cell_type": "code",
   "execution_count": 145,
   "metadata": {},
   "outputs": [
    {
     "data": {
      "image/png": "[encoded data removed]",
      "text/plain": [
       "<Figure size 864x576 with 1 Axes>"
      ]
     },
     "metadata": {
      "needs_background": "light"
     },
     "output_type": "display_data"
    }
   ],
   "source": [
    "plt.figure(figsize=[12, 8])\n",
    "sns.boxplot(data=df_go, x='member_gender', y='age')\n",
    "\n",
    "plt.title('Duration of bike trip according to the Type of Users')\n",
    "plt.xlabel('User Type')\n",
    "plt.ylabel('Bike Ride Duration')\n",
    "\n",
    "plt.show()"
   ]
  },
  {
   "cell_type": "markdown",
   "metadata": {},
   "source": [
    "From the above boxplot, we can summise that on average users of all genders represented are between the ages of 26 and 40."
   ]
  },
  {
   "cell_type": "markdown",
   "metadata": {},
   "source": [
    "### 12 What is the distribution of user types relative to their ages?"
   ]
  },
  {
   "cell_type": "code",
   "execution_count": 153,
   "metadata": {},
   "outputs": [
    {
     "data": {
      "image/png": "[encoded data removed]",
      "text/plain": [
       "<Figure size 864x576 with 1 Axes>"
      ]
     },
     "metadata": {
      "needs_background": "light"
     },
     "output_type": "display_data"
    }
   ],
   "source": [
    "plt.figure(figsize=[12, 8])\n",
    "sns.boxplot(data=df_go, x= 'user_type', y='age')\n",
    "plt.title('Distribution of users relative to age and gender')\n",
    "plt.xlabel('User Age')\n",
    "plt.ylabel('Frequency')\n",
    "plt.show()"
   ]
  },
  {
   "cell_type": "markdown",
   "metadata": {},
   "source": [
    "From the above barplot, we can tell that there are more customers than subscribers"
   ]
  },
  {
   "cell_type": "markdown",
   "metadata": {},
   "source": [
    "### Talk about some of the relationships you observed in this part of the investigation. How did the feature(s) of interest vary with other features in the dataset?\n",
    "\n",
    "we can summise that on average users of all genders represented are between the ages of 26 and 40.\n",
    "The users classified as customers generally go on longer rides than those who are subscribed\n",
    "\n",
    "### Did you observe any interesting relationships between the other features (not the main feature(s) of interest)?\n",
    "\n",
    "The distribution of women relative to their ages compared to male genders\n",
    "\n",
    "\n"
   ]
  },
  {
   "cell_type": "markdown",
   "metadata": {},
   "source": [
    "## Multivariate Exploration"
   ]
  },
  {
   "cell_type": "markdown",
   "metadata": {},
   "source": [
    "### 13 What is the ride duration in minutes relative to genders according to User Type?"
   ]
  },
  {
   "cell_type": "code",
   "execution_count": 161,
   "metadata": {},
   "outputs": [
    {
     "data": {
      "image/png": "[encoded data removed]",
      "text/plain": [
       "<Figure size 864x576 with 1 Axes>"
      ]
     },
     "metadata": {
      "needs_background": "light"
     },
     "output_type": "display_data"
    }
   ],
   "source": [
    "plt.figure(figsize=[12, 8])\n",
    "sns.stripplot(data=df_go, x='member_gender', y='duration_minutes', hue='user_type', jitter= 0.30, dodge=True)\n",
    "\n",
    "plt.legend(loc='center left', bbox_to_anchor=(1, 0.5), title='User Type')\n",
    "\n",
    "plt.title('Ride Duration for each Gender according to User Type')\n",
    "plt.xlabel('Gender')\n",
    "plt.ylabel('Ride in Minutes')\n",
    "plt.show()"
   ]
  },
  {
   "cell_type": "markdown",
   "metadata": {},
   "source": [
    "From the plot, when reviewed Genders, it is clear that customers took longer bike rised than subscribers"
   ]
  },
  {
   "cell_type": "markdown",
   "metadata": {},
   "source": [
    "### 14 What is the correlation between the various numerical variables in the dataset?"
   ]
  },
  {
   "cell_type": "code",
   "execution_count": 169,
   "metadata": {},
   "outputs": [
    {
     "data": {
      "image/png": "[encoded data removed]",
      "text/plain": [
       "<Figure size 864x576 with 2 Axes>"
      ]
     },
     "metadata": {
      "needs_background": "light"
     },
     "output_type": "display_data"
    }
   ],
   "source": [
    "plt.figure(figsize=[12, 8])\n",
    "data_set= ['duration_hours', 'duration_minutes',\"duration_sec\", 'age',\"member_birth_year\", \"bike_id\"]\n",
    "sb.heatmap(df_go[data_set].corr(), annot = True, fmt = '.2f', cmap = 'vlag_r', center = 0);"
   ]
  },
  {
   "cell_type": "markdown",
   "metadata": {},
   "source": [
    "The above heatmap shows how various numerical values correlated to each other, with a clear correlation between duration in seconds, minutes and hours"
   ]
  },
  {
   "cell_type": "markdown",
   "metadata": {},
   "source": [
    "### 15 What is the ride duration in minutes relative to user types according to member genders?"
   ]
  },
  {
   "cell_type": "code",
   "execution_count": 167,
   "metadata": {},
   "outputs": [
    {
     "data": {
      "image/png": "[encoded data removed]",
      "text/plain": [
       "<Figure size 864x576 with 1 Axes>"
      ]
     },
     "metadata": {
      "needs_background": "light"
     },
     "output_type": "display_data"
    }
   ],
   "source": [
    "plt.figure(figsize=[12, 8])\n",
    "sns.stripplot(data=df_go, x='user_type', y='duration_minutes', hue='member_gender', jitter= 0.30, dodge=True)\n",
    "\n",
    "plt.legend(loc='center left', bbox_to_anchor=(1, 0.5), title='User Type')\n",
    "\n",
    "plt.title('Ride Duration for each Gender according to User Type')\n",
    "plt.xlabel('Gender')\n",
    "plt.ylabel('Ride in Minutes')\n",
    "plt.show()"
   ]
  },
  {
   "cell_type": "code",
   "execution_count": null,
   "metadata": {},
   "outputs": [],
   "source": [
    "From the plot, when reviewed by user types, it is clear that female customers took longer rides than female subscribers"
   ]
  },
  {
   "cell_type": "markdown",
   "metadata": {},
   "source": [
    "### Talk about some of the relationships you observed in this part of the investigation. Were there features that strengthened each other in terms of looking at your feature(s) of interest?\n",
    "\n",
    "The correlation between start ID and time or duration of rides os quite weak.\n",
    "\n",
    "\n",
    "### Were there any interesting or surprising interactions between features?\n",
    "\n",
    "There is a direct correlation between duration in seconds, minutes and hours."
   ]
  },
  {
   "cell_type": "markdown",
   "metadata": {},
   "source": [
    "## Conclusions\n",
    "The data in use presented some challenges, with a major outlier in the Age data which I proceeded to remove. The data itself was cleaned and 15 plots and conclusions made as a result.\n"
   ]
  },
  {
   "cell_type": "markdown",
   "metadata": {},
   "source": [
    "\n",
    "From the data, we can conclude the following:\n",
    "\n",
    "1. Most of the users are subscriers\n",
    "2. Most of the riders are of the male gender\n",
    "3. when reviewed by user types, it is clear that female customers took longer rides than female subscribers\n",
    "4. when reviewed Genders, it is clear that customers took longer bike rised than subscribers\n",
    "5. we can summise that on average users of all genders represented are between the ages of 26 and 40.\n",
    "\n"
   ]
  }
 ],
 "metadata": {
  "kernelspec": {
   "display_name": "Python 3 (ipykernel)",
   "language": "python",
   "name": "python3"
  },
  "language_info": {
   "codemirror_mode": {
    "name": "ipython",
    "version": 3
   },
   "file_extension": ".py",
   "mimetype": "text/x-python",
   "name": "python",
   "nbconvert_exporter": "python",
   "pygments_lexer": "ipython3",
   "version": "3.9.12"
  }
 },
 "nbformat": 4,
 "nbformat_minor": 2
}
